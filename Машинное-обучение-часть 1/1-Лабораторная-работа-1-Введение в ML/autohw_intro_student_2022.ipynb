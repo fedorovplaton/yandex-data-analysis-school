{
 "cells": [
  {
   "cell_type": "markdown",
   "metadata": {},
   "source": [
    "## Лабораторная работа 1. Введение в ML"
   ]
  },
  {
   "cell_type": "markdown",
   "metadata": {},
   "source": [
    "В этой лабораторной вы:\n",
    "\n",
    "- познакомитесь с базовыми библиотеками для работы с табличными данными — `numpy` и `pandas`\n",
    "- поближе посмотрите на простейшие задачи машинного обучения: классификацию и регрессию\n",
    "- попробуете несколько метрик и поймёте, почему выбор метрики это важно\n",
    "- обучите несколько простых моделей\n",
    "- увидите связь между сложностью модели и переобучением\n",
    "- убедитесь, что без данных всё тлен"
   ]
  },
  {
   "cell_type": "markdown",
   "metadata": {},
   "source": [
    "Загрузка самых базовых библиотек:"
   ]
  },
  {
   "cell_type": "code",
   "execution_count": 1,
   "metadata": {},
   "outputs": [],
   "source": [
    "import math\n",
    "\n",
    "import numpy as np\n",
    "import pandas as pd\n",
    "import matplotlib.pyplot as plt\n",
    "%matplotlib inline\n",
    "\n",
    "from sklearn.model_selection import train_test_split"
   ]
  },
  {
   "cell_type": "markdown",
   "metadata": {
    "slideshow": {
     "slide_type": "subslide"
    }
   },
   "source": [
    "### [NumPy](https://numpy.org/doc/stable/user/index.html)\n",
    "\n",
    "С 1995 numeric, с 2006 NumPy — «Numerical Python extensions» или просто «NumPy»\n",
    "\n",
    "Возможности библиотеки NumPy:\n",
    "* работать с многомерными массивами (таблицами)\n",
    "* быстро вычислять математические функций на многомерных массивах\n",
    "\n",
    "Ядро пакета NumPy — объект [ndarray](https://docs.scipy.org/doc/numpy/reference/generated/numpy.ndarray.html)\n",
    "\n",
    "**Важные отличия** между NumPy arrays и Python sequences: \n",
    "* NumPy array имеет фиксированную длину, которая определяется в момент его создания (в отличие от Python lists, которые могут расти динамически)\n",
    "* Элементы в NumPy array должны быть одного типа\n",
    "* Можно выполнять операции непосредственно над NumPy arrays\n",
    "\n",
    "**Скорость** NumPy достигается с помощью:\n",
    "* реализации на C\n",
    "* векторизации и броадкастинга (broadcasting). Например, произведение массивов совместимых форм.\n",
    "\n",
    "Теперь давайте разберёмся подробнее и сделаем что-нибудь приятное и полезное в `numpy`!"
   ]
  },
  {
   "cell_type": "markdown",
   "metadata": {
    "slideshow": {
     "slide_type": "subslide"
    }
   },
   "source": [
    "### Индексация"
   ]
  },
  {
   "cell_type": "markdown",
   "metadata": {
    "slideshow": {
     "slide_type": "-"
    }
   },
   "source": [
    "В NumPy работает привычная индексация Python, ура! Включая использование отрицательных индексов и срезов (slices)"
   ]
  },
  {
   "cell_type": "markdown",
   "metadata": {
    "slideshow": {
     "slide_type": "subslide"
    }
   },
   "source": [
    "<div class=\"alert alert-info\">\n",
    "<b>Замечание 1:</b> Индексы и срезы в многомерных массивах не нужно разделять квадратными скобками, \n",
    "т.е. вместо <b>matrix[i][j]</b> нужно использовать <b>matrix[i, j]</b>. Первое тоже работает, но сначала выдаёт строку i, потом элемент j в ней. \n",
    "</div>"
   ]
  },
  {
   "cell_type": "markdown",
   "metadata": {
    "slideshow": {
     "slide_type": "-"
    }
   },
   "source": [
    "<div class=\"alert alert-danger\">\n",
    "<b>Замечание 2:</b> Срезы в NumPy создают view, а не копии, как в случае срезов встроенных последовательностей Python (string, tuple and list).\n",
    "</div>"
   ]
  },
  {
   "cell_type": "code",
   "execution_count": 2,
   "metadata": {},
   "outputs": [
    {
     "data": {
      "text/plain": [
       "array([[0., 0., 0.],\n",
       "       [0., 0., 0.],\n",
       "       [0., 0., 0.]])"
      ]
     },
     "execution_count": 2,
     "metadata": {},
     "output_type": "execute_result"
    }
   ],
   "source": [
    "ones_matrix = np.ones((5, 5))\n",
    "ones_submatrix_view = ones_matrix[::2,::2] # creates a view, not copy\n",
    "ones_matrix[::2,::2] = np.zeros((3, 3))\n",
    "ones_submatrix_view"
   ]
  },
  {
   "cell_type": "markdown",
   "metadata": {},
   "source": [
    "### Ссылка на Яндекс.Контест\n",
    "\n",
    "Решения и ответы в задачах, расположенных ниже, загружайте в контест на автоматическую проверку:\n",
    "https://contest.yandex.ru/contest/39295/enter"
   ]
  },
  {
   "cell_type": "markdown",
   "metadata": {},
   "source": [
    "**1. (1 балл)** Реализуйте функцию, принимающую на вход два одномерных массива `first_array` и `second_array` и возвращающую матрицу, в которой первый массив соответствует первому столбцу матрицы, второй — второму.\n",
    "\n",
    "Вероятно первое, что приходит вам на ум, это конкатенация и транспонирование:"
   ]
  },
  {
   "cell_type": "code",
   "execution_count": 3,
   "metadata": {},
   "outputs": [],
   "source": [
    "def construct_matrix(first_array, second_array):\n",
    "    \"\"\"\n",
    "    Construct matrix from pair of arrays\n",
    "    :param first_array: first array\n",
    "    :param second_array: second array\n",
    "    :return: constructed matrix\n",
    "    \"\"\"\n",
    "    return np.dstack([first_array.reshape(1, -1), second_array.reshape(1, -1)])[0] # <- your first right code here"
   ]
  },
  {
   "cell_type": "code",
   "execution_count": 4,
   "metadata": {
    "scrolled": true
   },
   "outputs": [
    {
     "data": {
      "text/plain": [
       "array([[1, 5],\n",
       "       [2, 6],\n",
       "       [3, 7],\n",
       "       [4, 8]])"
      ]
     },
     "execution_count": 4,
     "metadata": {},
     "output_type": "execute_result"
    }
   ],
   "source": [
    "construct_matrix(np.array([1,2,3,4]),np.array([5,6,7,8]))"
   ]
  },
  {
   "cell_type": "markdown",
   "metadata": {},
   "source": [
    "(в скобках заметим, что конкатенировать можно vertically, horizontally, depth wise методами vstack, hstack, dstack по трём осям (0, 1 и 2, соотвественно), либо в общем случае `np.concatenate` — поиграйтесь ниже с прекрасным примером четырёхмерной точки, чтобы точно всё для себя понять)"
   ]
  },
  {
   "cell_type": "code",
   "execution_count": 5,
   "metadata": {
    "slideshow": {
     "slide_type": "subslide"
    }
   },
   "outputs": [
    {
     "data": {
      "text/plain": [
       "array([[[[0]]]])"
      ]
     },
     "execution_count": 5,
     "metadata": {},
     "output_type": "execute_result"
    }
   ],
   "source": [
    "p = np.arange(1).reshape([1, 1, 1, 1])\n",
    "p"
   ]
  },
  {
   "cell_type": "code",
   "execution_count": 6,
   "metadata": {
    "slideshow": {
     "slide_type": "-"
    }
   },
   "outputs": [
    {
     "name": "stdout",
     "output_type": "stream",
     "text": [
      "vstack:  (2, 1, 1, 1)\n",
      "hstack:  (1, 2, 1, 1)\n",
      "dstack:  (1, 1, 2, 1)\n"
     ]
    }
   ],
   "source": [
    "print(\"vstack: \", np.vstack((p, p)).shape)\n",
    "print(\"hstack: \", np.hstack((p, p)).shape)\n",
    "print(\"dstack: \", np.dstack((p, p)).shape)"
   ]
  },
  {
   "cell_type": "code",
   "execution_count": 7,
   "metadata": {
    "slideshow": {
     "slide_type": "-"
    }
   },
   "outputs": [
    {
     "data": {
      "text/plain": [
       "(1, 1, 1, 2)"
      ]
     },
     "execution_count": 7,
     "metadata": {},
     "output_type": "execute_result"
    }
   ],
   "source": [
    "np.concatenate((p, p), axis=3).shape"
   ]
  },
  {
   "cell_type": "markdown",
   "metadata": {},
   "source": [
    "Но, поскольку операция транспонирования [делает массив non-contiguous](https://numpy.org/doc/stable/user/basics.copies.html#other-operations), мы в этой задаче **запретим** ей пользоваться и порекомедуем воспользоваться, например, методом [reshape](https://numpy.org/doc/stable/reference/generated/numpy.reshape.html)."
   ]
  },
  {
   "cell_type": "markdown",
   "metadata": {},
   "source": [
    "**2. (1 балл)** Реализуйте функцию, принимающую на вход массив целых неотрицательных чисел `nums` и возвращающую самый частый элемент массива."
   ]
  },
  {
   "cell_type": "code",
   "execution_count": 8,
   "metadata": {},
   "outputs": [],
   "source": [
    "def most_frequent(nums):\n",
    "    \"\"\"\n",
    "    Find the most frequent value in an array\n",
    "    :param nums: array of ints\n",
    "    :return: the most frequent value\n",
    "    \"\"\"\n",
    "    return np.bincount(nums).argmax()"
   ]
  },
  {
   "cell_type": "code",
   "execution_count": 9,
   "metadata": {
    "pycharm": {
     "name": "#%%\n"
    }
   },
   "outputs": [
    {
     "data": {
      "text/plain": [
       "99"
      ]
     },
     "execution_count": 9,
     "metadata": {},
     "output_type": "execute_result"
    }
   ],
   "source": [
    "most_frequent(np.array([1, 2, 2, 3,3 ,3 , 4, 6, 7, 99, 99, 99, 99, 99, 99, 99]))"
   ]
  },
  {
   "cell_type": "markdown",
   "metadata": {},
   "source": [
    "### Переходим к работе с данными\n",
    "\n",
    "Прежде всего, загрузим данные и сделаем из них красивые pandas-таблички. Они взяты из параллели RecSys соревнования https://yandex.ru/cup/ml/. Но мы будем иметь дело не со всеми данными, а только с их частью. Данные у нас будут про заведения общественного питания (больше бюрократический терминологии!)\n",
    "\n",
    "Задачей будет **предсказание среднего чека** (average_bill) по некоторым другим свойствам заведения."
   ]
  },
  {
   "cell_type": "code",
   "execution_count": 10,
   "metadata": {},
   "outputs": [],
   "source": [
    "base = 'data/'"
   ]
  },
  {
   "cell_type": "code",
   "execution_count": 11,
   "metadata": {},
   "outputs": [],
   "source": [
    "data = pd.read_csv(base + 'organisations.csv')\n",
    "features = pd.read_csv(base + 'features.csv')\n",
    "rubrics = pd.read_csv(base + 'rubrics.csv')"
   ]
  },
  {
   "cell_type": "markdown",
   "metadata": {},
   "source": [
    "В основном мы будем работать с табличкой `data`; остальное вам может пригодиться, если вы захотите знать, какое содержание стоит за кодами признаков."
   ]
  },
  {
   "cell_type": "markdown",
   "metadata": {},
   "source": [
    "## Изучение данных"
   ]
  },
  {
   "cell_type": "markdown",
   "metadata": {},
   "source": [
    "Посмотрите на данные. В этом вам поможет метод ``head`` pandas-таблички."
   ]
  },
  {
   "cell_type": "code",
   "execution_count": 12,
   "metadata": {},
   "outputs": [
    {
     "data": {
      "text/html": [
       "<div>\n",
       "<style scoped>\n",
       "    .dataframe tbody tr th:only-of-type {\n",
       "        vertical-align: middle;\n",
       "    }\n",
       "\n",
       "    .dataframe tbody tr th {\n",
       "        vertical-align: top;\n",
       "    }\n",
       "\n",
       "    .dataframe thead th {\n",
       "        text-align: right;\n",
       "    }\n",
       "</style>\n",
       "<table border=\"1\" class=\"dataframe\">\n",
       "  <thead>\n",
       "    <tr style=\"text-align: right;\">\n",
       "      <th></th>\n",
       "      <th>org_id</th>\n",
       "      <th>city</th>\n",
       "      <th>average_bill</th>\n",
       "      <th>rating</th>\n",
       "      <th>rubrics_id</th>\n",
       "      <th>features_id</th>\n",
       "    </tr>\n",
       "  </thead>\n",
       "  <tbody>\n",
       "    <tr>\n",
       "      <th>0</th>\n",
       "      <td>15903868628669802651</td>\n",
       "      <td>msk</td>\n",
       "      <td>1500.0</td>\n",
       "      <td>4.270968</td>\n",
       "      <td>30776 30774</td>\n",
       "      <td>3501685156 3501779478 20422 3502045016 3502045...</td>\n",
       "    </tr>\n",
       "    <tr>\n",
       "      <th>1</th>\n",
       "      <td>16076540698036998306</td>\n",
       "      <td>msk</td>\n",
       "      <td>500.0</td>\n",
       "      <td>4.375000</td>\n",
       "      <td>30771</td>\n",
       "      <td>1509 1082283206 273469383 10462 11617 35017794...</td>\n",
       "    </tr>\n",
       "    <tr>\n",
       "      <th>2</th>\n",
       "      <td>8129364761615040323</td>\n",
       "      <td>msk</td>\n",
       "      <td>500.0</td>\n",
       "      <td>4.000000</td>\n",
       "      <td>31495</td>\n",
       "      <td>10462 11177 11617 11629 1416 1018 11704 11867 ...</td>\n",
       "    </tr>\n",
       "    <tr>\n",
       "      <th>3</th>\n",
       "      <td>15262729117594253452</td>\n",
       "      <td>msk</td>\n",
       "      <td>500.0</td>\n",
       "      <td>4.538813</td>\n",
       "      <td>30776 30770</td>\n",
       "      <td>3501618484 2020795524 11629 11617 1018 11704 2...</td>\n",
       "    </tr>\n",
       "    <tr>\n",
       "      <th>4</th>\n",
       "      <td>13418544315327784420</td>\n",
       "      <td>msk</td>\n",
       "      <td>500.0</td>\n",
       "      <td>4.409091</td>\n",
       "      <td>31495</td>\n",
       "      <td>11617 10462 11177 1416 11867 3501744275 20282 ...</td>\n",
       "    </tr>\n",
       "  </tbody>\n",
       "</table>\n",
       "</div>"
      ],
      "text/plain": [
       "                 org_id city  average_bill    rating   rubrics_id  \\\n",
       "0  15903868628669802651  msk        1500.0  4.270968  30776 30774   \n",
       "1  16076540698036998306  msk         500.0  4.375000        30771   \n",
       "2   8129364761615040323  msk         500.0  4.000000        31495   \n",
       "3  15262729117594253452  msk         500.0  4.538813  30776 30770   \n",
       "4  13418544315327784420  msk         500.0  4.409091        31495   \n",
       "\n",
       "                                         features_id  \n",
       "0  3501685156 3501779478 20422 3502045016 3502045...  \n",
       "1  1509 1082283206 273469383 10462 11617 35017794...  \n",
       "2  10462 11177 11617 11629 1416 1018 11704 11867 ...  \n",
       "3  3501618484 2020795524 11629 11617 1018 11704 2...  \n",
       "4  11617 10462 11177 1416 11867 3501744275 20282 ...  "
      ]
     },
     "execution_count": 12,
     "metadata": {},
     "output_type": "execute_result"
    }
   ],
   "source": [
    "data.head(5)"
   ]
  },
  {
   "cell_type": "markdown",
   "metadata": {},
   "source": [
    "Полезно посмотреть внимательнее на то, с какими признаками нам предстоит работать.\n",
    "\n",
    "* **org_id** вам не понадобится;\n",
    "* **city** - город, в котором находится заведение (``msk`` или ``spb``);\n",
    "* **average_bill** - средний чек в заведении - он будет нашим таргетом;\n",
    "* **rating** - рейтинг заведения;\n",
    "* **rubrics_id** - тип заведения (или несколько типов). Соответствие кодов каким-то человекочитаемым типам живёт в табличке ``rubrics``\n",
    "* **features_id** - набор неких фичей заведения. Соответствие кодов каким-то человекочитаемым типам живёт в табличке ``features``\n",
    "\n",
    "Обратите внимание, что **rubrics_id** и **features_id** - это не списки, а разделённые пробелами строки. Когда вам захочется работать с отдельными фичами из мешка фичей для данного заведения, вам придётся всё-таки превратить их в списки (здесь поможет метод `split` для строк)."
   ]
  },
  {
   "cell_type": "markdown",
   "metadata": {},
   "source": [
    "Чтобы быстро восстанавливать по рубрикам и фичам их нормальные названия, сделайте словари вида ``код_фичи:название_фичи``"
   ]
  },
  {
   "cell_type": "code",
   "execution_count": 13,
   "metadata": {},
   "outputs": [],
   "source": [
    "rubric_dict = {index: row['rubric_name'] for index, row in rubrics.iterrows()}\n",
    "feature_dict = {index: row['feature_name'] for index, row in features.iterrows()}"
   ]
  },
  {
   "cell_type": "markdown",
   "metadata": {},
   "source": [
    "Посмотрим, какими бывают типы заведений:"
   ]
  },
  {
   "cell_type": "code",
   "execution_count": 14,
   "metadata": {
    "scrolled": false
   },
   "outputs": [
    {
     "data": {
      "text/plain": [
       "{0: 'Булочная, пекарня',\n",
       " 1: 'Бар, паб',\n",
       " 2: 'Быстрое питание',\n",
       " 3: 'Кафе',\n",
       " 4: 'Пиццерия',\n",
       " 5: 'Ресторан',\n",
       " 6: 'Столовая',\n",
       " 7: 'Спортбар',\n",
       " 8: 'Кондитерская',\n",
       " 9: 'Суши-бар',\n",
       " 10: 'Кальян-бар',\n",
       " 11: 'Кофейня',\n",
       " 12: 'Бар безалкогольных напитков',\n",
       " 13: 'Фудкорт',\n",
       " 14: 'Кофе с собой'}"
      ]
     },
     "execution_count": 14,
     "metadata": {},
     "output_type": "execute_result"
    }
   ],
   "source": [
    "rubric_dict"
   ]
  },
  {
   "cell_type": "markdown",
   "metadata": {},
   "source": [
    "Мы что-то поняли про признаки, которыми нам предстоит пользоваться. Теперь время посмотреть на таргет. Вооружившись функциями ``hist`` и ``scatter`` из библиотеки ``matplotlib``, а также методом ``isna`` для pandas-таблиц разберитесь, какие значения принимают таргеты, есть ли там там выбросы, пропуски или ещё какие-то проблемы.\n",
    "\n",
    "&nbsp;\n",
    "\n",
    "<details>\n",
    "  <summary>Когда будете готовы, кликните сюда, чтобы посмотреть ответ</summary>\n",
    "    <ol>\n",
    "      <li>Среди таргетов довольно много пропусков;</li>\n",
    "      <li>Все таргеты - это числа, кратные 500;</li>\n",
    "      <li>Есть какие-то адские значения, превышающие 100 000 (видимо, выбросы);</li>\n",
    "      <li>В целом, число ресторанов с данным средним чеком быстро падает с ростом среднего чека. Для средних чеков, больших 2500, заведений уже совсем мало. Примерно у 2/3 заведений средний чек 500.</li>\n",
    "    </ol> \n",
    "</details>"
   ]
  },
  {
   "cell_type": "code",
   "execution_count": 15,
   "metadata": {
    "pycharm": {
     "name": "#%%\n"
    }
   },
   "outputs": [
    {
     "data": {
      "text/plain": [
       "(0.5203617261007624, '%')"
      ]
     },
     "execution_count": 15,
     "metadata": {},
     "output_type": "execute_result"
    }
   ],
   "source": [
    "data[data['average_bill'].isna()].shape[0] / data.shape[0], '%'"
   ]
  },
  {
   "cell_type": "code",
   "execution_count": 16,
   "metadata": {
    "pycharm": {
     "name": "#%%\n"
    }
   },
   "outputs": [
    {
     "data": {
      "text/plain": [
       "array(['msk', 'spb'], dtype=object)"
      ]
     },
     "execution_count": 16,
     "metadata": {},
     "output_type": "execute_result"
    }
   ],
   "source": [
    "data['city'].unique()"
   ]
  },
  {
   "cell_type": "code",
   "execution_count": 17,
   "metadata": {
    "pycharm": {
     "name": "#%%\n"
    }
   },
   "outputs": [
    {
     "data": {
      "text/plain": [
       "<AxesSubplot:>"
      ]
     },
     "execution_count": 17,
     "metadata": {},
     "output_type": "execute_result"
    },
    {
     "data": {
      "image/png": "[encoded data removed]",
      "text/plain": [
       "<Figure size 640x480 with 1 Axes>"
      ]
     },
     "metadata": {},
     "output_type": "display_data"
    }
   ],
   "source": [
    "data[data['city'] == 'spb'].boxplot(column=['average_bill'])"
   ]
  },
  {
   "cell_type": "code",
   "execution_count": 18,
   "metadata": {
    "pycharm": {
     "name": "#%%\n"
    }
   },
   "outputs": [
    {
     "data": {
      "text/plain": [
       "<AxesSubplot:>"
      ]
     },
     "execution_count": 18,
     "metadata": {},
     "output_type": "execute_result"
    },
    {
     "data": {
      "image/png": "[encoded data removed]",
      "text/plain": [
       "<Figure size 640x480 with 1 Axes>"
      ]
     },
     "metadata": {},
     "output_type": "display_data"
    }
   ],
   "source": [
    "data[data['city'] == 'msk'].boxplot(column=['average_bill'])"
   ]
  },
  {
   "cell_type": "code",
   "execution_count": 19,
   "metadata": {
    "scrolled": true
   },
   "outputs": [
    {
     "data": {
      "text/plain": [
       "(array([1.7477e+04, 3.0500e+03, 5.5600e+02, 1.1100e+02, 8.9000e+01,\n",
       "        3.4000e+01, 1.2000e+01, 1.0000e+01, 1.1000e+01, 8.0000e+00]),\n",
       " array([ 500., 1350., 2200., 3050., 3900., 4750., 5600., 6450., 7300.,\n",
       "        8150., 9000.]),\n",
       " <BarContainer object of 10 artists>)"
      ]
     },
     "execution_count": 19,
     "metadata": {},
     "output_type": "execute_result"
    },
    {
     "data": {
      "image/png": "[encoded data removed]",
      "text/plain": [
       "<Figure size 640x480 with 1 Axes>"
      ]
     },
     "metadata": {},
     "output_type": "display_data"
    }
   ],
   "source": [
    "plt.hist(data[(data['city'] == 'spb') & (data['average_bill'] < 10000)]['average_bill'], alpha=0.5)\n",
    "plt.hist(data[(data['city'] == 'msk') & (data['average_bill'] < 10000)]['average_bill'], alpha=0.5)"
   ]
  },
  {
   "cell_type": "markdown",
   "metadata": {},
   "source": [
    "**Базовая очистка данных**\n",
    "\n",
    "Раз есть треш, давайте чистить данные.\n",
    "\n",
    "С пропусками можно бороться по-разному (даже и с пропусками в таргете), но пока мы сделаем самую простую вещь: дропнем все заведения, для которых мы не знаем средний чек. \n",
    "\n",
    "Уберите из них все заведения, у которых средний чек неизвестен или превышает 2500. Пока есть опасение, что их слишком мало, чтобы мы смогли обучить на них что-нибудь.\n",
    "\n",
    "**3. (1 балл) Введите в Контест количество заведений, которое у вас получилось после очистки**.\n",
    "\n",
    "Дальше мы будем работать с очищенными данными."
   ]
  },
  {
   "cell_type": "code",
   "execution_count": 20,
   "metadata": {},
   "outputs": [],
   "source": [
    "data = data[(~data['average_bill'].isna()) & (data['average_bill'] <= 2500)]"
   ]
  },
  {
   "cell_type": "code",
   "execution_count": 21,
   "metadata": {
    "pycharm": {
     "name": "#%%\n"
    }
   },
   "outputs": [
    {
     "data": {
      "text/plain": [
       "(0, 0)"
      ]
     },
     "execution_count": 21,
     "metadata": {},
     "output_type": "execute_result"
    }
   ],
   "source": [
    "data[data['average_bill'].isna()].shape[0], data[data['average_bill'] > 2500].shape[0]"
   ]
  },
  {
   "cell_type": "code",
   "execution_count": 22,
   "metadata": {
    "pycharm": {
     "name": "#%%\n"
    }
   },
   "outputs": [
    {
     "data": {
      "text/plain": [
       "32136"
      ]
     },
     "execution_count": 22,
     "metadata": {},
     "output_type": "execute_result"
    }
   ],
   "source": [
    "data.shape[0]"
   ]
  },
  {
   "cell_type": "markdown",
   "metadata": {},
   "source": [
    "**4. (1 балл) Посчитайте и введите в Контест разность между средними арифметическими average_bill в кафе Москвы и Санкт-Петербурга. Округлите ответ до целого.**\n",
    "\n",
    "&nbsp;\n",
    "\n",
    "<details>\n",
    "  <summary>Небольшая подсказка</summary>\n",
    "  Примените часто используемый метод groupby.\n",
    "</details>"
   ]
  },
  {
   "cell_type": "code",
   "execution_count": 23,
   "metadata": {},
   "outputs": [
    {
     "data": {
      "text/plain": [
       "(781.0807941395052, 638.6771069441583, 142)"
      ]
     },
     "execution_count": 23,
     "metadata": {},
     "output_type": "execute_result"
    }
   ],
   "source": [
    "import math\n",
    "\n",
    "data_msk = data[data['city'] == 'msk']\n",
    "data_spb = data[data['city'] == 'spb']\n",
    "\n",
    "msk_target_avg = data_msk[data_msk.apply(lambda row: '30774' in row['rubrics_id'], axis=1)]['average_bill'].mean()\n",
    "spb_target_avg = data_spb[data_spb.apply(lambda row: '30774' in row['rubrics_id'], axis=1)]['average_bill'].mean()\n",
    "\n",
    "msk_target_avg, spb_target_avg, math.floor(msk_target_avg - spb_target_avg)"
   ]
  },
  {
   "cell_type": "markdown",
   "metadata": {},
   "source": [
    ".Давайте ещё немного поизучаем данные. Ответьте на вопросы:\n",
    "\n",
    "1. Есть ли разница между средними чеками в Москве и Санкт-Петербурге?\n",
    "2. Коррелирует ли средний чек с рейтингом?\n",
    "3. Есть ли разница в среднем чеке между ресторанами и пабами (см. соответствующие типы из ``rubrics``)?\n",
    "\n",
    "&nbsp;\n",
    "\n",
    "<details>\n",
    "  <summary>Когда будете готовы, кликните сюда, чтобы посмотреть ответ</summary>\n",
    "    <ol>\n",
    "      <li>В целом, да. Вы могли бы сравнить средние (в Москве больше) или медианы (они равны, потому что уж больно много где средний чек 500). Этого, конечно, мало для того, чтобы сделать вывод. Нужно проверять какие-то статические критерии, которые изучаются в курсе по статистике. Не будем останавливаться на этом подробно. Поскольку данные совсем не нормальные, никакой t-тест не сработает; мы бы предложили использовать критерий Манна-Уитни (см. википедию и функцию mannwhitneyu из библиотеки scipy.stats).</li>\n",
    "      <li>Какая-то корреляция между ними есть но уж больно неубедительная (рекомендуем построим на одном графике boxplot рейтинга по каждому значению среднего чека для визуализации). Конечно, дна становится меньше с ростом среднего чека, но, видимо, в предсказании это особо не используешь;</li>\n",
    "      <li>Несомненно, в ресторанах средний чек выше. Это и невооружённым глазом видно, и с помощью критерия Манна-Уитни можно проверить.</li>\n",
    "    </ol> \n",
    "</details>"
   ]
  },
  {
   "cell_type": "markdown",
   "metadata": {},
   "source": [
    "## Формулируем задачу"
   ]
  },
  {
   "cell_type": "markdown",
   "metadata": {},
   "source": [
    "Прежде, чем решать задачу, её надо сформулировать.\n",
    "\n",
    "**Вопрос первый**: это классификация или регрессия? Подумайте над этим.\n",
    "\n",
    "&nbsp;\n",
    "\n",
    "<details>\n",
    "  <summary>Когда будете готовы, кликните сюда, чтобы посмотреть ответ</summary>\n",
    "    Ответ не столь однозначен, как хотелось бы. С одной стороны, таргет принимает всего четыре значения, и потому это может быть классификацией с 4 классами. С другой стороны, таргеты - это не абстрактные \"треугольник\", \"круг\", \"квадрат\", а вещественные числа, и когда мы вместо 500 предсказываем 2500, это явно хуже, чем вместо 1500 предсказать 2000. В целом, задачу можно решать и так, и так; мы будем смотреть на метрики обеих задач.\n",
    "</details>"
   ]
  },
  {
   "cell_type": "markdown",
   "metadata": {},
   "source": [
    "**Вопрос второй**: какие метрики мы будем использовать для оценки качества решения? Какие метрики вы предложили бы для этой задачи как для задачи классификации? А для этой задачи, как для задачи регрессии?\n",
    "\n",
    "&nbsp;\n",
    "\n",
    "<details>\n",
    "  <summary>Когда будете готовы, кликните сюда, чтобы посмотреть ответ</summary>\n",
    "    \n",
    "    Начнём с классификации. Метрика accuracy не очень хороша из-за несбалансированности классов. Действительно, классификатор, который всегда говорит 500, будет иметь accuracy примерно 0.66, хотя это никак не отражает практическую ценность модели. Как мы увидим, самая большая проблема будет заключаться в том, чтобы научиться выделять заведения с большими чеками, а их меньше всего и в accuracy они вносят самый маленький вклад. Есть разные способы с этим бороться, один -- использовать sklearn.metrics.balanced_accuracy_score. Его идея, грубо говоря, в том, чтобы по каждому классу найти, какая доля объектов этого класса правильно классифицирована, а потом эти доли усреднить. Тогда у бессмысленного классификатора, который всем ставит 500, будет скор 1/5 (ведь классов 5), а чтобы получить прежние 2/3, нужно будет научиться в каждом классе правильно ставить хотя бы 2/3 меток.    \n",
    "    \n",
    "    Теперь что касается регрессии. Основых метрики две - MSE и MAE. Из первой стоит извлекать корень, чтобы получать интерпретируемые человеком значения, а вторая менее агрессивна к выбросам (впрочем, выбросов тут уже нет, мы их все выкинули). Без дополнительной информации не очень понятно, какую выбирать, можно брать любую. А выбирать надо: ведь даже банальные модели \"предсказывай всегда среднее\" и \"предсказывай всегда медиану\" будут по-разному ранжироваться этими метриками.\n",
    "    \n",
    "</details>"
   ]
  },
  {
   "cell_type": "markdown",
   "metadata": {},
   "source": [
    "**Вопрос третий**: а не взять ли нам какую-нибудь более экзотическую метрику? Например, MAPE (определение в учебнике в главе про оценку качества моделей). А как вам такое соображение: допустим, заказчик говорит, что пользователи будут расстраиваться, только если мы завысили средний чек - так давайте поправим MSE или MAE, обнуляя те слагаемые, для которых предсказанный таргет меньше истинного. Вот это хорошая метрика или нет?\n",
    "\n",
    "&nbsp;\n",
    "\n",
    "<details>\n",
    "  <summary>Когда будете готовы, кликните сюда, чтобы посмотреть ответ</summary>\n",
    "    \n",
    "    Что касается MAPE, у нас нет тех проблем, с которой она борется. Вот если бы у нас были средние чеки от 500 до миллиона, мы бы столкнулись с ситуацией, что большие ошибки для больших чеков доминировали бы в сумме для MSE и MAE (500 вместо 1000 меркнет по сравнению с 500к вместо миллиона). Говоря поэтически, мы бы оптимизировали модель для миллионеров, забыв про простых трудяг. И было бы логично перейти от парадигмы \"ошибаемся на 500 рублей\" к парадигме \"ошибаемся на 50%\". Но у нас все таргеты примерно одного порядка, MAPE нам особо ни к чему.\n",
    "    \n",
    "    Вторая метрика коварна тем, что её можно \"накрутить\" безо всякой пользы для дела. А именно, модель, которая всегда предсказывает средний чек в миллион, была бы идеальна. Но все бы расстраивались и не ходили есть. Другое дело, что можно ввести разные веса для ошибок в большую и в меньшую сторону, но опять же - пока нет показаний к тому, что это нужно.\n",
    "    \n",
    "</details>"
   ]
  },
  {
   "cell_type": "markdown",
   "metadata": {},
   "source": [
    "## Применяем ML"
   ]
  },
  {
   "cell_type": "markdown",
   "metadata": {},
   "source": [
    "Теперь время разбить данные на обучающую и тестовую выборку. Делается это с помощью функции ``train_test_split`` из пакета ``sklearn``. При этом очень важно сделать две вещи:\n",
    "\n",
    "* Зафиксировать ``random_state=42`` (да, именно этот, а то ваши модели могут не зайти в Контест), чтобы всё, что мы делаем, было воспроизводимо (иначе от перезапуска к перезапуску числа могут меняться, и мы не будем понимать, из-за чего это происходит).\n",
    "* Сделать стратификацию по таргету. В противном случае у нас в трейне и тесте могут оказаться разные пропорции классов (обычно особенно страдают мало представленные классы), что неутешительно скажется на результате.\n",
    "\n",
    "**Обратите внимание**, что если вы побьёте выборку на train и test по-другому, ваши результаты могут не зайти в контест."
   ]
  },
  {
   "cell_type": "code",
   "execution_count": 24,
   "metadata": {},
   "outputs": [],
   "source": [
    "clean_data = data"
   ]
  },
  {
   "cell_type": "code",
   "execution_count": 25,
   "metadata": {},
   "outputs": [],
   "source": [
    "clean_data_train, clean_data_test = train_test_split(\n",
    "    clean_data, stratify=clean_data['average_bill'], test_size=0.33, random_state=42)"
   ]
  },
  {
   "cell_type": "markdown",
   "metadata": {},
   "source": [
    "Теперь нам нужен **бейзлайн** - очень простая модель, с которой мы в дальнейшем будем сравниваться.\n",
    "\n",
    "Поскольку мы ещё не знаем никаких умных классов моделей, все модели мы будем писать руками. А именно, мы напишем две простых модели на основе ``sklearn.baseRegressorMixin`` и ``sklearn.base.ClassifierMixin`` (посмотрите примеры в документации sklearn и сделайте так же):\n",
    "\n",
    "* Модель для задачи регрессии, которая для всех заведений предсказывает одно число — среднее значение среднего чека;\n",
    "* Модель для задачи классификации, которая для всех заведений предсказывает один класс — самый частый класс (ироничным образом он в данном случае совпадает с медианой).\n",
    "\n",
    "**Важно!** Мы будем много раз повторять вам мантру о том, что **информация из тестовой выборки не должна протекать в процесс обучения**. Так вот, и среднее, и самый частый класс вы должны считать именно на обучающей выборке!\n",
    "\n",
    "**5 и 6. (по 1 баллу) Напишите эти две модели и сдайте в Контест**. В процессе проверки модели будут и обучаться, и предсказывать.\n",
    "\n",
    "Заметим, что для этих моделей нам вообще не нужны какие-то \"фичи\"; мы работаем только с таргетом.\n",
    "\n",
    "У каждой модели есть (как минимум) два метода: `fit` (обучает модель по фичам `X` и таргету `y`) `predict` (предсказывает по фичам `X`)"
   ]
  },
  {
   "cell_type": "code",
   "execution_count": 26,
   "metadata": {},
   "outputs": [],
   "source": [
    "from scipy.stats import mode\n",
    "\n",
    "from sklearn.base import RegressorMixin\n",
    "\n",
    "class MeanRegressor(RegressorMixin):\n",
    "    # Predicts the mean of y_train\n",
    "    def fit(self, X=None, y=None):\n",
    "        '''\n",
    "        Parameters\n",
    "        ----------\n",
    "        X : array like, shape = (n_samples, n_features)\n",
    "        Training data features\n",
    "        y : array like, shape = (_samples,)\n",
    "        Training data targets\n",
    "        '''\n",
    "        \n",
    "        self.result = y.mean()\n",
    "        \n",
    "    def predict(self, X=None):\n",
    "        '''\n",
    "        Parameters\n",
    "        ----------\n",
    "        X : array like, shape = (n_samples, n_features)\n",
    "        Data to predict\n",
    "        '''\n",
    "        return self.result\n",
    "    \n",
    "from sklearn.base import ClassifierMixin\n",
    "\n",
    "class MostFrequentClassifier(ClassifierMixin):\n",
    "    # Predicts the rounded (just in case) median of y_train\n",
    "    def fit(self, X=None, y=None):\n",
    "        '''\n",
    "        Parameters\n",
    "        ----------\n",
    "        X : array like, shape = (n_samples, n_features)\n",
    "        Training data features\n",
    "        y : array like, shape = (_samples,)\n",
    "        Training data targets\n",
    "        '''\n",
    "        self.result = np.bincount(y).argmax()\n",
    "        \n",
    "    def predict(self, X=None):\n",
    "        '''\n",
    "        Parameters\n",
    "        ----------\n",
    "        X : array like, shape = (n_samples, n_features)\n",
    "        Data to predict\n",
    "        '''\n",
    "        return self.result"
   ]
  },
  {
   "cell_type": "markdown",
   "metadata": {},
   "source": [
    "Обучим наши модели"
   ]
  },
  {
   "cell_type": "code",
   "execution_count": 27,
   "metadata": {},
   "outputs": [],
   "source": [
    "reg = MeanRegressor()\n",
    "reg.fit(y=clean_data_train['average_bill'])\n",
    "\n",
    "clf = MostFrequentClassifier()\n",
    "clf.fit(y=clean_data_train['average_bill'])"
   ]
  },
  {
   "cell_type": "code",
   "execution_count": 28,
   "metadata": {},
   "outputs": [
    {
     "data": {
      "text/plain": [
       "752.1016209186754"
      ]
     },
     "execution_count": 28,
     "metadata": {},
     "output_type": "execute_result"
    }
   ],
   "source": [
    "reg.predict([])"
   ]
  },
  {
   "cell_type": "code",
   "execution_count": 29,
   "metadata": {},
   "outputs": [
    {
     "data": {
      "text/plain": [
       "500"
      ]
     },
     "execution_count": 29,
     "metadata": {},
     "output_type": "execute_result"
    }
   ],
   "source": [
    "clf.predict([])"
   ]
  },
  {
   "cell_type": "code",
   "execution_count": 30,
   "metadata": {},
   "outputs": [
    {
     "data": {
      "text/plain": [
       "201344.60285540455"
      ]
     },
     "execution_count": 30,
     "metadata": {},
     "output_type": "execute_result"
    }
   ],
   "source": [
    "from sklearn.metrics import mean_squared_error\n",
    "from sklearn.metrics import balanced_accuracy_score\n",
    "\n",
    "mean_squared_error(\n",
    "    clean_data_test['average_bill'],\n",
    "    list(map(reg.predict, range(clean_data_test.shape[0])))\n",
    ")"
   ]
  },
  {
   "cell_type": "code",
   "execution_count": 31,
   "metadata": {},
   "outputs": [
    {
     "data": {
      "text/plain": [
       "0.2"
      ]
     },
     "execution_count": 31,
     "metadata": {},
     "output_type": "execute_result"
    }
   ],
   "source": [
    "balanced_accuracy_score(\n",
    "    list(map(int, clean_data_test['average_bill'])),\n",
    "    list(map(int, map(clf.predict, range(clean_data_test.shape[0]))))\n",
    ")"
   ]
  },
  {
   "cell_type": "markdown",
   "metadata": {},
   "source": [
    "Обучите модели и оцените их качество на тестовой выборке. В качестве метрик возьмём RMSE (``np.sqrt`` от ``sklearn.metrics.mean_squared_error``) и ``sklearn.metrics.balanced_accuracy_score``.\n",
    "\n",
    "\n",
    "Для регрессионной модели имеет смысл считать только RMSE (значения будут не кратны 500, точно мы угадывать не будем никогда), а вот для классификационной можно найти обе метрики. Сделайте это. Какая модель оказалась лучше по RMSE?"
   ]
  },
  {
   "cell_type": "markdown",
   "metadata": {},
   "source": [
    "<details>\n",
    "  <summary>Когда будете готовы, кликните сюда</summary>\n",
    "    \n",
    "  Казалось бы, регрессор никогда не угадывает, но он в каком-то смысле лучше классификатора - справедливо ли это? Возможно. Несуществующий пользователь модели вряд ли будет задавать вопросы \"почему средний чек не кратен 500?\" Ну, выдали около 800 - ок, понятно.\n",
    "    \n",
    "</details>"
   ]
  },
  {
   "cell_type": "markdown",
   "metadata": {},
   "source": [
    "## Усложнение модели"
   ]
  },
  {
   "cell_type": "markdown",
   "metadata": {},
   "source": [
    "Бейзлайны будут нашей отправной точкой. Строя дальнейшие модели, мы будем спрашивать себя: получилось ли лучше бейзлайна? Если нет или если не особо, то в чём смысл усложнения?"
   ]
  },
  {
   "cell_type": "markdown",
   "metadata": {},
   "source": [
    "Начнём с использования фичи ``city``. Мы уже видели, что в разных городах и средние чеки разные. Легко проверить, что *медиана* средних чеков всё же одна и та же и в Москве, и в Санкт-Петербурге (ох уж этот вездесущий средний чек 500!), поэтому с классификатором мы ничего не сделаем. Но вот регрессор можно попробовать починить.\n",
    "\n",
    "**7. (1 балл) Напишите регрессор, для каждого заведения предсказывающий среднее значение в том же городе (на обучающей выборке, конечно) и сдайте его в Контест**. Вам может помочь то, что булевы `pandas` и `numpy` столбцы можно умножать на численные — в такой ситуации False работает, как ноль, а True как единица."
   ]
  },
  {
   "cell_type": "code",
   "execution_count": 35,
   "metadata": {},
   "outputs": [],
   "source": [
    "from sklearn.base import RegressorMixin\n",
    "import pandas as pd\n",
    "from uuid import uuid1\n",
    "\n",
    "class CityMeanRegressor(RegressorMixin):\n",
    "    def fit(self, X: pd.DataFrame=None, y: pd.Series=None):\n",
    "        self.data = X\n",
    "        self.data['my_custom_target_column'] = y\n",
    "        self.target = y\n",
    "        \n",
    "    def predict(self, X: pd.DataFrame=None):\n",
    "        tmp_col = str(uuid1())\n",
    "        X[tmp_col] = 0\n",
    "        \n",
    "        for city in X['city'].unique():\n",
    "            avg_bill = self.target[self.data['city'] == city].mean()\n",
    "            \n",
    "            print(city, avg_bill)\n",
    "            \n",
    "            X.loc[(X['city'] == city), tmp_col] = avg_bill\n",
    "            \n",
    "        result = X[tmp_col]\n",
    "        X = X.drop(columns=[tmp_col])\n",
    "        self.data = self.data.drop(columns=['my_custom_target_column'])\n",
    "        \n",
    "        return result"
   ]
  },
  {
   "cell_type": "code",
   "execution_count": 36,
   "metadata": {},
   "outputs": [
    {
     "name": "stdout",
     "output_type": "stream",
     "text": [
      "spb 677.7104465814781\n",
      "msk 792.6111908177905\n"
     ]
    },
    {
     "data": {
      "text/plain": [
       "198119.64335056383"
      ]
     },
     "execution_count": 36,
     "metadata": {},
     "output_type": "execute_result"
    }
   ],
   "source": [
    "reg_city = CityMeanRegressor()\n",
    "reg_city.fit(X=clean_data_train, y=clean_data_train['average_bill'])\n",
    "\n",
    "mean_squared_error(\n",
    "    clean_data_test['average_bill'],\n",
    "    reg_city.predict(clean_data_test)\n",
    ")"
   ]
  },
  {
   "cell_type": "markdown",
   "metadata": {},
   "source": [
    "Обучите регрессор и сравните его по метрике RMSE с бейзлайнами. Получилось ли улучшить метрику?"
   ]
  },
  {
   "cell_type": "markdown",
   "metadata": {},
   "source": [
    "Лучше стало, но, правда, не очень сильно. В этот момент очень важно не просто радовать руководителя приростом в третьем знаке, но и думать о том, что происходит.\n",
    "\n",
    "Средний средний чек по Москве равен 793, в Санкт-Петербурге - 676, а в целом - 752 рубля. MSE, увы, не поможет вам ответить на вопрос, стало ли лучше пользователю, если вы ему вместо 752 рублей назвали 793. Здесь вскрывается весьма существенный порок MSE в этой задаче. Дело в том, что наш изначальный таргет делит заведения на некоторые \"ценовые категории\", и различие в средних чеках 500 и 1000 в самом деле существенно. Наверное, мы хотели бы как раз правильно предсказывать ценовые категории. Но MSE не очень помогает нам об этом судить. Дальше мы ещё подумаем, как это исправить.\n",
    "\n",
    "В любом случае, несмотря на улучшение метрики, мы пока не можем судить, стало ли по жизни лучше от усложнения модели."
   ]
  },
  {
   "cell_type": "markdown",
   "metadata": {},
   "source": [
    "Поручинившись немного, возьмём на вооружение другую идею. Давайте использовать типы заведений! \n",
    "\n",
    "Но с типами есть некоторая проблема: в столбце ``rubrics_id`` не всегда один идентификатор, часто их несколько, и всего комбинаций довольно много. Чтобы не возиться с малочисленными типами, давайте сольём их в один безликий ``other``.\n",
    "\n",
    "Итак, добавьте в обучающие и тестовые данные столбец ``modified_rubrics``, в котором будет то же, что и в ``rubrics_id``, если соответствующая комбинация рубрик содержит хотя бы 100 заведений из обучающей (!) выборки, и строка ``other`` в противном случае.\n",
    "\n",
    "Здесь вам поможет контейнер ``Counter`` из библиотеки ``collections``."
   ]
  },
  {
   "cell_type": "code",
   "execution_count": 220,
   "metadata": {},
   "outputs": [],
   "source": [
    "counts = clean_data_train['rubrics_id'].value_counts()\n",
    "\n",
    "clean_data_train['modified_rubrics'] = clean_data_train['rubrics_id'].apply(\n",
    "    lambda rubric_id: rubric_id if counts[rubric_id] >= 100 else 'other'\n",
    ")\n",
    "\n",
    "clean_data_test['modified_rubrics'] = clean_data_test['rubrics_id'].apply(\n",
    "    lambda rubric_id: rubric_id if rubric_id in counts and counts[rubric_id] >= 100 else 'other'\n",
    ")"
   ]
  },
  {
   "cell_type": "markdown",
   "metadata": {},
   "source": [
    "Теперь настало время написать могучий классификатор, который по заведению предсказывает медиану средних чеков среди тех в обучающей выборке, у которых с ним одинаковые `modified_rubrics` и город (вы спросите, почему медиану, а не самый частый -- спишем это на вдохновение; самый частый тоже можно брать - но медиана работает лучше).\n",
    "\n",
    "**8. (2 балла) Напишите классификатор и сдайте в Контест**."
   ]
  },
  {
   "cell_type": "code",
   "execution_count": 221,
   "metadata": {},
   "outputs": [],
   "source": [
    "from uuid import uuid1\n",
    "import pandas as pd\n",
    "from sklearn.base import ClassifierMixin\n",
    "\n",
    "class CityRubricClassifier(ClassifierMixin):\n",
    "    # Predicts the rounded (just in case) median of y_train\n",
    "    def fit(self, X: pd.DataFrame=None, y: pd.Series=None):\n",
    "        self.data = X.copy()\n",
    "        self.target = y.copy()\n",
    "        \n",
    "    def predict(self, X=None):\n",
    "        tmp_target_column = str(uuid1())\n",
    "        self.data[tmp_target_column] = self.target\n",
    "        tmp_median_df = self.data.groupby(['city', 'modified_rubrics']).agg({tmp_target_column:'median'})\n",
    "\n",
    "        result = X.join(\n",
    "            tmp_median_df,\n",
    "            on=['city', 'modified_rubrics'],\n",
    "            how='left'\n",
    "        )[tmp_target_column]\n",
    "        \n",
    "        self.data.drop(columns=[tmp_target_column])\n",
    "        \n",
    "        return result"
   ]
  },
  {
   "cell_type": "code",
   "execution_count": 222,
   "metadata": {},
   "outputs": [],
   "source": [
    "city_rub_ref = CityRubricClassifier()\n",
    "city_rub_ref.fit(X=clean_data_train.drop(columns=['average_bill']), y=clean_data_train['average_bill'])"
   ]
  },
  {
   "cell_type": "code",
   "execution_count": 223,
   "metadata": {},
   "outputs": [
    {
     "data": {
      "text/plain": [
       "155209.80669495522"
      ]
     },
     "execution_count": 223,
     "metadata": {},
     "output_type": "execute_result"
    }
   ],
   "source": [
    "mean_squared_error(\n",
    "    clean_data_test['average_bill'],\n",
    "    city_rub_ref.predict(clean_data_test)\n",
    ")"
   ]
  },
  {
   "cell_type": "markdown",
   "metadata": {},
   "source": [
    "Сравните обученный классификатор по метрикам RMSE и balanced_accuracy_score с нашими бейзлайнами. Получилось ли улучшить?"
   ]
  },
  {
   "cell_type": "markdown",
   "metadata": {},
   "source": [
    "Обратите внимание что рост accuracy по сравнению с бейзлайном при этом на порядок меньше:"
   ]
  },
  {
   "cell_type": "markdown",
   "metadata": {},
   "source": [
    "accuracy_score\n",
    "\n",
    "Predict most frequent:  0.6947666195190948\n",
    "\n",
    "Predict by rubric and city:  0.7095709570957096"
   ]
  },
  {
   "cell_type": "markdown",
   "metadata": {},
   "source": [
    "Для диагностики напечатайте для каждого класса тестовой выборки, сколько в нём объектов и скольким из них наш классификатор приписал правильный класс. Что вы видите?\n",
    "\n",
    "&nbsp;\n",
    "\n",
    "<details>\n",
    "  <summary>Когда будете готовы, кликните сюда, чтобы посмотреть ответ</summary>\n",
    "    \n",
    "  Вы, вероятно, видите то, что мы стали однозначно лучше по сравнению с бейзлайном детектировать средний чек 1000 и 1500 (хотя всё равно не очень хорошо + ценой ухудшения качества на среднем чеке 500), а вот чеки 2000 и 2500 нам ну никак не даются.\n",
    "    \n",
    "</details>"
   ]
  },
  {
   "cell_type": "markdown",
   "metadata": {},
   "source": [
    "**Кстати**. А вы понимаете, почему приведённый выше пайплайн классификации был не очень удачным с точки зрения архитектуры? Почему его было бы правильнее воплотить по-другому?\n",
    "\n",
    "&nbsp;\n",
    "\n",
    "<details>\n",
    "  <summary>Когда будете готовы, кликните сюда, чтобы посмотреть ответ</summary>\n",
    "Собственно говоря, и не было никакого пайплайна. К счастью, у нас была одна обучающая выборка, мы на ней посчитали список рубрик для modified_rubrics и радовались жизни. Но если бы нам надо было переобучать всё на новых данных, пришлось бы помнить, что их надо везде пересчитать (ведь у нас могли появиться новые рубрики с хотя бы 100 представителями). А уж никакую кросс-валидацию (кто знает - тот поймёт) с нашим подходом к делу и вовсе бы не получилось сделать без боли.\n",
    "    \n",
    "Поэтому в следующей лабораторной вы научитесь делать честные пайплайны, в которых преобразование данных, генерация фичей и обучение классификатора будут объединены в один понятный процесс, происходящий на этапе fit.\n",
    "</details>"
   ]
  },
  {
   "cell_type": "markdown",
   "metadata": {},
   "source": [
    "## Слишком простые и слишком сложные модели"
   ]
  },
  {
   "cell_type": "markdown",
   "metadata": {},
   "source": [
    "Бейзлайны у нас слишком просты и потому не очень полезны в жизни. Но если сложность модели растёт бесконтрольно, то тоже получается плохо.\n",
    "\n",
    "Давайте рассмотрим конкретный пример. Создадим классификатор, использующий одновременно `rubrics_id` и `features_id`. \n",
    "\n",
    "Сделайте следующее:\n",
    "\n",
    "- для каждого объекта обучающей выборки сконкатенируйте строку `rubrics_id` с разделителем (например, буквой 'q') и содержимым `features_id`. Полученный столбец озаглавьте `modified_features`. Это не самый клёвый способ заиспользовать все фичи, но сейчас пока сойдёт. Причём на сей раз не будем выкидывать мало представленные значения (вся информация важна, не так ли?).\n",
    "- при этом для тестовой выборке заменяйте на строку `other` все конкатенации, которые не встретились в обучающей выборке.\n",
    "\n",
    "То есть элементы в этом столбце будут иметь вид `other` или `30776 30774 q 3502045032 11741 3502045016 1046...`."
   ]
  },
  {
   "cell_type": "code",
   "execution_count": 224,
   "metadata": {},
   "outputs": [
    {
     "data": {
      "text/plain": [
       "array([1000.,  500., 2000., 1500., 2500.])"
      ]
     },
     "execution_count": 224,
     "metadata": {},
     "output_type": "execute_result"
    }
   ],
   "source": [
    "clean_data_test['average_bill'].unique()"
   ]
  },
  {
   "cell_type": "code",
   "execution_count": 225,
   "metadata": {},
   "outputs": [
    {
     "name": "stderr",
     "output_type": "stream",
     "text": [
      "/var/folders/dz/7q462fh56rg95y4_6lnqmrvr0000gq/T/ipykernel_1894/784415994.py:4: SettingWithCopyWarning: \n",
      "A value is trying to be set on a copy of a slice from a DataFrame.\n",
      "Try using .loc[row_indexer,col_indexer] = value instead\n",
      "\n",
      "See the caveats in the documentation: https://pandas.pydata.org/pandas-docs/stable/user_guide/indexing.html#returning-a-view-versus-a-copy\n",
      "  clean_data_test.loc[clean_data_test['modified_features'].isin(clean_data_train['modified_features'].unique())]['modified_features'] = 'other'\n"
     ]
    }
   ],
   "source": [
    "\n",
    "\n",
    "clean_data_train['modified_features'] = clean_data_train['rubrics_id'] + ' q ' + clean_data_train['features_id']\n",
    "clean_data_test['modified_features'] = clean_data_test['rubrics_id'] + ' q ' + clean_data_test['features_id']\n",
    "\n",
    "clean_data_test.loc[\n",
    "    clean_data_test['modified_features'].isin(clean_data_train['modified_features'].unique())\n",
    "]['modified_features'] = 'other'\n",
    "\n"
   ]
  },
  {
   "cell_type": "code",
   "execution_count": 230,
   "metadata": {},
   "outputs": [
    {
     "data": {
      "text/plain": [
       "array([1000.,  500., 2000., 1500., 2500.])"
      ]
     },
     "execution_count": 230,
     "metadata": {},
     "output_type": "execute_result"
    }
   ],
   "source": [
    "clean_data_test['average_bill'].unique()"
   ]
  },
  {
   "cell_type": "code",
   "execution_count": 266,
   "metadata": {},
   "outputs": [],
   "source": [
    "from uuid import uuid1\n",
    "import pandas as pd\n",
    "from sklearn.base import ClassifierMixin\n",
    "\n",
    "class RubricFeatureClassifier(ClassifierMixin):\n",
    "    # Predicts the rounded (just in case) median of y_train\n",
    "    def fit(self, X: pd.DataFrame=None, y: pd.Series=None):\n",
    "        self.data = X.copy()\n",
    "        self.target = y.copy()\n",
    "        self.default_value = y.median()\n",
    "        \n",
    "    def predict(self, X=None):\n",
    "        tmp_target_column = str(uuid1())\n",
    "        self.data[tmp_target_column] = self.target\n",
    "        tmp_median_df = self.data.groupby(['modified_features']).agg({tmp_target_column:'median'})\n",
    "\n",
    "        result = X.join(\n",
    "            tmp_median_df,\n",
    "            on='modified_features',\n",
    "            how='left'\n",
    "        )\n",
    "        result.loc[result[tmp_target_column].isna()] = self.default_value\n",
    "        result = result[tmp_target_column]\n",
    "        \n",
    "        self.data.drop(columns=[tmp_target_column])\n",
    "        \n",
    "        return result\n",
    "    \n",
    "rub_feature_clf = RubricFeatureClassifier()\n",
    "rub_feature_clf.fit(X=clean_data_train.drop(columns=['average_bill']), y=clean_data_train['average_bill'])"
   ]
  },
  {
   "cell_type": "code",
   "execution_count": 251,
   "metadata": {},
   "outputs": [],
   "source": [
    "rub_feature_clf.predict(clean_data_test).astype(int).to_csv('data/task_9.csv', header=False)"
   ]
  },
  {
   "cell_type": "code",
   "execution_count": 273,
   "metadata": {},
   "outputs": [
    {
     "name": "stdout",
     "output_type": "stream",
     "text": [
      "32.42\n",
      "0.99\n",
      "513.99\n",
      "0.2\n"
     ]
    },
    {
     "name": "stderr",
     "output_type": "stream",
     "text": [
      "/Users/platon.fedorov/opt/anaconda3/envs/yandex-data-analysis-school/lib/python3.9/site-packages/sklearn/metrics/_classification.py:2006: UserWarning: y_pred contains classes not in y_true\n",
      "  warnings.warn(\"y_pred contains classes not in y_true\")\n",
      "/Users/platon.fedorov/opt/anaconda3/envs/yandex-data-analysis-school/lib/python3.9/site-packages/sklearn/metrics/_classification.py:2006: UserWarning: y_pred contains classes not in y_true\n",
      "  warnings.warn(\"y_pred contains classes not in y_true\")\n"
     ]
    }
   ],
   "source": [
    "print(round(mean_squared_error(\n",
    "    clean_data_train['average_bill'],\n",
    "    rub_feature_clf.predict(clean_data_train),\n",
    "    squared=False\n",
    "), 2))\n",
    "print(round(balanced_accuracy_score(\n",
    "    clean_data_train['average_bill'],\n",
    "    rub_feature_clf.predict(clean_data_train)\n",
    "), 2))\n",
    "print(round(mean_squared_error(\n",
    "    clean_data_test['average_bill'],\n",
    "    rub_feature_clf.predict(clean_data_test),\n",
    "    squared=False\n",
    "), 2))\n",
    "print(round(balanced_accuracy_score(\n",
    "    clean_data_test['average_bill'],\n",
    "    rub_feature_clf.predict(clean_data_test)\n",
    "), 2))"
   ]
  },
  {
   "cell_type": "markdown",
   "metadata": {},
   "source": [
    "Теперь обучите классификатор, который для заведения предсказывает медиану среднего чека по всем объектам тестовой выборки с таким же, как у него, значением `modified_features`, а если такого в обучающей выборке нет, то глобальную медиану среднего чека по всей обучающей выборке.\n",
    "\n",
    "**9. (2 балла) Загрузите в Контест предсказания этого классификатора на тестовой выборке**\n",
    "\n",
    "Мы ждём файла **.csv**, у которого в каждой строке будет только одно число - предсказание классификатора.\n",
    "\n",
    "Возможно, вам будет полезна библиотека ``tqdm``, позволяющая отслеживать в реальном времени, сколько времени уже крутится цикл и сколько итераций ещё осталось. Впрочем, если вы всё написали нормально, то должно работать не очень долго."
   ]
  },
  {
   "cell_type": "markdown",
   "metadata": {},
   "source": [
    "Модель, очевидно, очень сложная. Число параметров (различных категорий) в ней сопоставимо с числом объектов в обучающей выборке. А получилось ли хорошо?\n",
    "\n",
    "Давайте посчитаем RMSE и balanced_accuracy_score на обучающей и на тестовой выборках. \n",
    "\n",
    "**10. (1 балл) Введите их в Контест**"
   ]
  },
  {
   "cell_type": "markdown",
   "metadata": {},
   "source": [
    "Налицо переобучение: на трейне метрики отличные, на тесте - вообще никакие\n",
    "\n",
    "В общем, не гонитесь за чрезмерной сложностью модели.."
   ]
  },
  {
   "cell_type": "markdown",
   "metadata": {},
   "source": [
    "## ML без данных что компутер без электричества"
   ]
  },
  {
   "cell_type": "markdown",
   "metadata": {},
   "source": [
    "Возможно, вы смотрите на полученные выше результаты и думаете: вот если бы мы не какие-то убогие медианы предсказывали, а гоняли бы нейросети, то тут-то бы всё и получилось!\n",
    "\n",
    "Но, увы, совсем даже не всегда от счастья нас отделяет выбор хорошей модели (и стратегии обучения). Если данные не очень, то даже самая крутая модель не сработает. В этой ситуации нужно либо добывать новые фичи каким-то образом, либо собирать новые данные (увеличивать датасет), либо просто бросать задачу.\n",
    "\n",
    "Давайте посмотрим, что выжмет из наших данных одна из самых мощных моделей для табличных данных - градиентный бустинг на решающих деревьях в исполнении [CatBoost](https://catboost.ai/)."
   ]
  },
  {
   "cell_type": "markdown",
   "metadata": {},
   "source": [
    "Но прежде, чем сделать fit, нам надо облагородить данные. Несмотря на то, что CatBoost отлично работает с категориальными фичами, мешок признаков из `rubrics_id` или `features_id` может ему оказаться не по зубам. Поэтому мы соберём датасет в пристойную матрицу, создав для каждого типа рубрик и фичей отдельный столбец и записав там единицы для тех объектов, у которых эта рубрика или фича имеет место.\n",
    "\n",
    "В матрице почти все элементы будут нулями. Такие матрицы считаются **разреженными** и их можно хранить гораздо эффективней, чем просто таблицей. Этим и займёмся)"
   ]
  },
  {
   "cell_type": "markdown",
   "metadata": {},
   "source": [
    "Есть несколько форматов хранения разреженных матриц (многие из них реализованы в [пакете sparse библиотеки scipy](https://docs.scipy.org/doc/scipy/reference/sparse.html)), и каждый пригоден для чего-то своего.\n",
    "\n",
    "Создавать разреженную матрицу лучше в [формате COO](https://docs.scipy.org/doc/scipy/reference/generated/scipy.sparse.coo_array.html#scipy.sparse.coo_array). Он предполагает, что разреженная матрица задаётся в виде трёх списков: `row`, `col`, `data`, причём каждая тройка `(row[i], col[i], data[i])` кодирует элемент со значением `data[i]`, стоящий на позиции `(row[i], col[i])`. Считается, что на позициях `(row, col)`, которые ни разу не встретились, стоят нули.\n",
    "\n",
    "Нетрудно видеть, что заполнять такую матрицу - одно удовольствие, и особенно этому помогает тот факт, что **пара `(row, col)` может встретиться несколько раз** (тогда в итоговой матрице на соответствующей позиции стоит сумма соответствующих `data[i]`). Но, с другой стороны, почти ничего другого с такой матрицей не сделаешь: произвольного доступа к элементам она не предоставляет, умножить её тоже особо ничего не умножишь. Поэтому для дальнейшего использования созданную таким образом матрицу преобразуют в один из более удобных форматов, например, [CSR (compressed sparse row)](https://scipy-lectures.org/advanced/scipy_sparse/csr_matrix.html). Он, к примеру, хорошо подходит для умножения на вектор (потому что матрица хранится по строкам). Не будем разбирать его подробно, но можете почитать по ссылке, если интересно."
   ]
  },
  {
   "cell_type": "markdown",
   "metadata": {},
   "source": [
    "Вам нужно будет превратить обучающие и тестовые данные в разреженные матрицы `sparse_data_train` и `sparse_data_test` соответственно, таким образом, что:\n",
    "\n",
    "- столбец `city` превратится в столбец из единиц и нулей (например, 1 - Москва, 0 - Питер);\n",
    "- столбец `rating` перекочует в разреженные матрицы без изменений;\n",
    "- каждый типы рубрик и каждая фича превратятся в отдельный 0-1-принак;\n",
    "\n",
    "В тестовой выборке будут фичи, которых в обучающей выборке не было. С ними можно по-разному работать, но давайте создадим дополнительную фантомную фичу `feature_other`, в которой будет то, сколько неизвестных по обучающей выборке фичей есть у данного объекта."
   ]
  },
  {
   "cell_type": "code",
   "execution_count": 342,
   "metadata": {},
   "outputs": [],
   "source": [
    "def encode_city(train, test):\n",
    "    from sklearn.preprocessing import LabelEncoder\n",
    "    \n",
    "    city_encoder = preprocessing.LabelEncoder()\n",
    "    city_encoder.fit(clean_data_train['city'])\n",
    "    \n",
    "    train['city_encoded'] = city_encoder.transform(train['city'])\n",
    "    test['city_encoded'] = city_encoder.transform(test['city'])\n",
    "    \n",
    "\n",
    "def add_zero_columns(train, test, col_names):\n",
    "    train = train.join(pd.DataFrame(\n",
    "        {col_name: 0 for col_name in col_names},\n",
    "        index=train.index\n",
    "    ))\n",
    "    \n",
    "    test = test.join(pd.DataFrame(\n",
    "        {col_name: 0 for col_name in col_names},\n",
    "        index=test.index\n",
    "    ))\n",
    "                     \n",
    "    return train, test\n",
    "\n",
    "\n",
    "def drop_equal_columns_train(data):\n",
    "    columns_to_remove = []\n",
    "    \n",
    "    for column in data.columns:\n",
    "        if (data[column] == 0).all():\n",
    "            columns_to_remove.append(column)\n",
    "\n",
    "    return data.drop(columns=columns_to_remove)\n",
    "\n",
    "\n",
    "def drop_equal_columns_test(train_data, test_data):\n",
    "    columns_to_remove = []\n",
    "    \n",
    "    for column in test_data.columns:\n",
    "        if (test_data[column] == 0).all() and column not in train_data.columns:\n",
    "            columns_to_remove.append(column)\n",
    "\n",
    "    return test_data.drop(columns=columns_to_remove)"
   ]
  },
  {
   "cell_type": "code",
   "execution_count": 355,
   "metadata": {},
   "outputs": [
    {
     "data": {
      "text/plain": [
       "70"
      ]
     },
     "execution_count": 355,
     "metadata": {},
     "output_type": "execute_result"
    }
   ],
   "source": [
    "import gc\n",
    "\n",
    "clean_data_train, clean_data_test = train_test_split(\n",
    "    clean_data, stratify=clean_data['average_bill'], test_size=0.33, random_state=42)\n",
    "\n",
    "ctb_train = clean_data_train.copy()\n",
    "ctb_test = clean_data_test.copy()\n",
    "    \n",
    "encode_city(ctb_train, ctb_test)\n",
    "\n",
    "rubrics_list = list(map(str, rubrics['rubric_id'].to_list()))\n",
    "features_list = list(map(str, features['feature_id'].to_list()))\n",
    "\n",
    "ctb_train, ctb_test = add_zero_columns(ctb_train, ctb_test, rubrics_list)\n",
    "ctb_train, ctb_test = add_zero_columns(ctb_train, ctb_test, features_list)\n",
    "\n",
    "for rubric_id in rubrics_list:\n",
    "    ctb_train.loc[ctb_train['rubrics_id'].str.contains(str(rubric_id)), rubric_id] = 1\n",
    "    ctb_test.loc[ctb_test['rubrics_id'].str.contains(str(rubric_id)), rubric_id] = 1\n",
    "\n",
    "for feature_id in features_list:\n",
    "    ctb_train.loc[ctb_train['features_id'].str.contains(str(feature_id)), feature_id] = 1\n",
    "    ctb_test.loc[ctb_test['features_id'].str.contains(str(feature_id)), feature_id] = 1\n",
    "\n",
    "ctb_train = drop_equal_columns_train(ctb_train)\n",
    "ctb_test = drop_equal_columns_test(ctb_train, ctb_test)\n",
    "\n",
    "feautres_test_only = list(set(ctb_test.columns).difference(set(ctb_train.columns)))\n",
    "ctb_train['feature_other'] = 0\n",
    "ctb_test['feature_other'] = ctb_test[feautres_test_only].sum(axis=1)\n",
    "ctb_test = ctb_test.drop(columns=feautres_test_only)\n",
    "\n",
    "\n",
    "ctb_train = ctb_train.drop(columns=['org_id', 'city', 'rubrics_id', 'features_id'])\n",
    "ctb_test = ctb_test.drop(columns=['org_id', 'city', 'rubrics_id', 'features_id'])\n",
    "\n",
    "x_train, y_train = ctb_train.drop(columns=['average_bill']), ctb_train['average_bill']\n",
    "x_test, y_test = ctb_test.drop(columns=['average_bill']), ctb_test['average_bill']\n",
    "\n",
    "del ctb_train, ctb_test, feautres_test_only, rubrics_list, features_list, clean_data_test, clean_data_train\n",
    "\n",
    "gc.collect()"
   ]
  },
  {
   "cell_type": "code",
   "execution_count": 359,
   "metadata": {},
   "outputs": [],
   "source": [
    "import scipy\n",
    "\n",
    "x_train_csr = scipy.sparse.csr_matrix(x_train.values)\n",
    "x_test_csr = scipy.sparse.csr_matrix(x_test.values)"
   ]
  },
  {
   "cell_type": "markdown",
   "metadata": {},
   "source": [
    "Данные готовы, и теперь можно запустить катбуст"
   ]
  },
  {
   "cell_type": "code",
   "execution_count": 361,
   "metadata": {},
   "outputs": [],
   "source": [
    "from catboost import CatBoostClassifier"
   ]
  },
  {
   "cell_type": "code",
   "execution_count": 362,
   "metadata": {},
   "outputs": [
    {
     "name": "stdout",
     "output_type": "stream",
     "text": [
      "Learning rate set to 0.092536\n",
      "0:\tlearn: 1.4342904\ttotal: 99.4ms\tremaining: 1m 39s\n",
      "1:\tlearn: 1.3172527\ttotal: 127ms\tremaining: 1m 3s\n",
      "2:\tlearn: 1.2266285\ttotal: 153ms\tremaining: 50.8s\n",
      "3:\tlearn: 1.1565291\ttotal: 179ms\tremaining: 44.5s\n",
      "4:\tlearn: 1.0985861\ttotal: 206ms\tremaining: 40.9s\n",
      "5:\tlearn: 1.0469854\ttotal: 235ms\tremaining: 38.9s\n",
      "6:\tlearn: 1.0061031\ttotal: 262ms\tremaining: 37.2s\n",
      "7:\tlearn: 0.9701702\ttotal: 289ms\tremaining: 35.8s\n",
      "8:\tlearn: 0.9385453\ttotal: 314ms\tremaining: 34.6s\n",
      "9:\tlearn: 0.9118185\ttotal: 341ms\tremaining: 33.8s\n",
      "10:\tlearn: 0.8895246\ttotal: 368ms\tremaining: 33s\n",
      "11:\tlearn: 0.8673816\ttotal: 394ms\tremaining: 32.5s\n",
      "12:\tlearn: 0.8487064\ttotal: 422ms\tremaining: 32s\n",
      "13:\tlearn: 0.8324794\ttotal: 452ms\tremaining: 31.8s\n",
      "14:\tlearn: 0.8169144\ttotal: 478ms\tremaining: 31.4s\n",
      "15:\tlearn: 0.8048038\ttotal: 501ms\tremaining: 30.8s\n",
      "16:\tlearn: 0.7922686\ttotal: 527ms\tremaining: 30.5s\n",
      "17:\tlearn: 0.7830198\ttotal: 551ms\tremaining: 30s\n",
      "18:\tlearn: 0.7743105\ttotal: 575ms\tremaining: 29.7s\n",
      "19:\tlearn: 0.7660581\ttotal: 598ms\tremaining: 29.3s\n",
      "20:\tlearn: 0.7580451\ttotal: 625ms\tremaining: 29.1s\n",
      "21:\tlearn: 0.7498924\ttotal: 653ms\tremaining: 29s\n",
      "22:\tlearn: 0.7435283\ttotal: 678ms\tremaining: 28.8s\n",
      "23:\tlearn: 0.7372893\ttotal: 703ms\tremaining: 28.6s\n",
      "24:\tlearn: 0.7320542\ttotal: 728ms\tremaining: 28.4s\n",
      "25:\tlearn: 0.7268726\ttotal: 754ms\tremaining: 28.2s\n",
      "26:\tlearn: 0.7214192\ttotal: 778ms\tremaining: 28s\n",
      "27:\tlearn: 0.7179926\ttotal: 803ms\tremaining: 27.9s\n",
      "28:\tlearn: 0.7139184\ttotal: 830ms\tremaining: 27.8s\n",
      "29:\tlearn: 0.7091300\ttotal: 860ms\tremaining: 27.8s\n",
      "30:\tlearn: 0.7061249\ttotal: 884ms\tremaining: 27.6s\n",
      "31:\tlearn: 0.7045450\ttotal: 905ms\tremaining: 27.4s\n",
      "32:\tlearn: 0.7015104\ttotal: 929ms\tremaining: 27.2s\n",
      "33:\tlearn: 0.6991405\ttotal: 954ms\tremaining: 27.1s\n",
      "34:\tlearn: 0.6962396\ttotal: 980ms\tremaining: 27s\n",
      "35:\tlearn: 0.6938921\ttotal: 1.01s\tremaining: 27s\n",
      "36:\tlearn: 0.6907221\ttotal: 1.03s\tremaining: 26.9s\n",
      "37:\tlearn: 0.6882255\ttotal: 1.06s\tremaining: 26.9s\n",
      "38:\tlearn: 0.6862735\ttotal: 1.09s\tremaining: 26.9s\n",
      "39:\tlearn: 0.6851773\ttotal: 1.11s\tremaining: 26.7s\n",
      "40:\tlearn: 0.6833742\ttotal: 1.14s\tremaining: 26.6s\n",
      "41:\tlearn: 0.6816632\ttotal: 1.16s\tremaining: 26.5s\n",
      "42:\tlearn: 0.6797601\ttotal: 1.19s\tremaining: 26.4s\n",
      "43:\tlearn: 0.6788366\ttotal: 1.21s\tremaining: 26.3s\n",
      "44:\tlearn: 0.6777265\ttotal: 1.26s\tremaining: 26.8s\n",
      "45:\tlearn: 0.6761891\ttotal: 1.31s\tremaining: 27.1s\n",
      "46:\tlearn: 0.6746631\ttotal: 1.34s\tremaining: 27.1s\n",
      "47:\tlearn: 0.6731804\ttotal: 1.36s\tremaining: 27s\n",
      "48:\tlearn: 0.6715689\ttotal: 1.39s\tremaining: 26.9s\n",
      "49:\tlearn: 0.6698232\ttotal: 1.41s\tremaining: 26.8s\n",
      "50:\tlearn: 0.6691806\ttotal: 1.43s\tremaining: 26.7s\n",
      "51:\tlearn: 0.6677512\ttotal: 1.46s\tremaining: 26.6s\n",
      "52:\tlearn: 0.6670883\ttotal: 1.49s\tremaining: 26.6s\n",
      "53:\tlearn: 0.6652762\ttotal: 1.51s\tremaining: 26.5s\n",
      "54:\tlearn: 0.6649914\ttotal: 1.54s\tremaining: 26.4s\n",
      "55:\tlearn: 0.6637555\ttotal: 1.56s\tremaining: 26.4s\n",
      "56:\tlearn: 0.6633314\ttotal: 1.59s\tremaining: 26.2s\n",
      "57:\tlearn: 0.6624327\ttotal: 1.61s\tremaining: 26.2s\n",
      "58:\tlearn: 0.6619702\ttotal: 1.64s\tremaining: 26.1s\n",
      "59:\tlearn: 0.6614679\ttotal: 1.66s\tremaining: 26s\n",
      "60:\tlearn: 0.6608394\ttotal: 1.68s\tremaining: 25.9s\n",
      "61:\tlearn: 0.6595073\ttotal: 1.71s\tremaining: 25.9s\n",
      "62:\tlearn: 0.6582321\ttotal: 1.74s\tremaining: 25.9s\n",
      "63:\tlearn: 0.6572456\ttotal: 1.77s\tremaining: 25.8s\n",
      "64:\tlearn: 0.6564152\ttotal: 1.79s\tremaining: 25.7s\n",
      "65:\tlearn: 0.6555588\ttotal: 1.81s\tremaining: 25.7s\n",
      "66:\tlearn: 0.6547468\ttotal: 1.84s\tremaining: 25.6s\n",
      "67:\tlearn: 0.6538347\ttotal: 1.86s\tremaining: 25.6s\n",
      "68:\tlearn: 0.6532259\ttotal: 1.89s\tremaining: 25.5s\n",
      "69:\tlearn: 0.6528824\ttotal: 1.91s\tremaining: 25.4s\n",
      "70:\tlearn: 0.6525102\ttotal: 1.94s\tremaining: 25.3s\n",
      "71:\tlearn: 0.6512677\ttotal: 1.96s\tremaining: 25.3s\n",
      "72:\tlearn: 0.6505942\ttotal: 1.99s\tremaining: 25.2s\n",
      "73:\tlearn: 0.6504415\ttotal: 2.01s\tremaining: 25.1s\n",
      "74:\tlearn: 0.6485175\ttotal: 2.04s\tremaining: 25.1s\n",
      "75:\tlearn: 0.6478571\ttotal: 2.06s\tremaining: 25.1s\n",
      "76:\tlearn: 0.6469486\ttotal: 2.08s\tremaining: 25s\n",
      "77:\tlearn: 0.6462948\ttotal: 2.11s\tremaining: 24.9s\n",
      "78:\tlearn: 0.6451330\ttotal: 2.13s\tremaining: 24.9s\n",
      "79:\tlearn: 0.6450829\ttotal: 2.16s\tremaining: 24.8s\n",
      "80:\tlearn: 0.6442814\ttotal: 2.19s\tremaining: 24.8s\n",
      "81:\tlearn: 0.6433354\ttotal: 2.21s\tremaining: 24.8s\n",
      "82:\tlearn: 0.6432510\ttotal: 2.24s\tremaining: 24.7s\n",
      "83:\tlearn: 0.6428849\ttotal: 2.26s\tremaining: 24.7s\n",
      "84:\tlearn: 0.6424523\ttotal: 2.29s\tremaining: 24.6s\n",
      "85:\tlearn: 0.6419053\ttotal: 2.31s\tremaining: 24.6s\n",
      "86:\tlearn: 0.6413710\ttotal: 2.34s\tremaining: 24.5s\n",
      "87:\tlearn: 0.6402647\ttotal: 2.36s\tremaining: 24.5s\n",
      "88:\tlearn: 0.6398980\ttotal: 2.39s\tremaining: 24.5s\n",
      "89:\tlearn: 0.6394682\ttotal: 2.41s\tremaining: 24.4s\n",
      "90:\tlearn: 0.6384616\ttotal: 2.44s\tremaining: 24.4s\n",
      "91:\tlearn: 0.6379454\ttotal: 2.46s\tremaining: 24.3s\n",
      "92:\tlearn: 0.6377054\ttotal: 2.49s\tremaining: 24.2s\n",
      "93:\tlearn: 0.6373566\ttotal: 2.51s\tremaining: 24.2s\n",
      "94:\tlearn: 0.6366110\ttotal: 2.54s\tremaining: 24.2s\n",
      "95:\tlearn: 0.6363483\ttotal: 2.56s\tremaining: 24.1s\n",
      "96:\tlearn: 0.6359546\ttotal: 2.59s\tremaining: 24.1s\n",
      "97:\tlearn: 0.6356557\ttotal: 2.62s\tremaining: 24.1s\n",
      "98:\tlearn: 0.6355441\ttotal: 2.65s\tremaining: 24.1s\n",
      "99:\tlearn: 0.6354871\ttotal: 2.67s\tremaining: 24.1s\n",
      "100:\tlearn: 0.6352434\ttotal: 2.7s\tremaining: 24s\n",
      "101:\tlearn: 0.6350088\ttotal: 2.72s\tremaining: 24s\n",
      "102:\tlearn: 0.6349107\ttotal: 2.75s\tremaining: 23.9s\n",
      "103:\tlearn: 0.6348524\ttotal: 2.77s\tremaining: 23.9s\n",
      "104:\tlearn: 0.6339678\ttotal: 2.8s\tremaining: 23.9s\n",
      "105:\tlearn: 0.6337628\ttotal: 2.83s\tremaining: 23.9s\n",
      "106:\tlearn: 0.6332896\ttotal: 2.86s\tremaining: 23.9s\n",
      "107:\tlearn: 0.6329145\ttotal: 2.88s\tremaining: 23.8s\n",
      "108:\tlearn: 0.6327720\ttotal: 2.91s\tremaining: 23.8s\n",
      "109:\tlearn: 0.6318684\ttotal: 2.93s\tremaining: 23.7s\n",
      "110:\tlearn: 0.6309544\ttotal: 2.96s\tremaining: 23.7s\n",
      "111:\tlearn: 0.6306464\ttotal: 2.98s\tremaining: 23.6s\n",
      "112:\tlearn: 0.6297461\ttotal: 3.01s\tremaining: 23.6s\n",
      "113:\tlearn: 0.6294487\ttotal: 3.04s\tremaining: 23.6s\n",
      "114:\tlearn: 0.6289036\ttotal: 3.07s\tremaining: 23.6s\n",
      "115:\tlearn: 0.6284454\ttotal: 3.09s\tremaining: 23.6s\n",
      "116:\tlearn: 0.6277391\ttotal: 3.12s\tremaining: 23.5s\n",
      "117:\tlearn: 0.6270399\ttotal: 3.14s\tremaining: 23.5s\n",
      "118:\tlearn: 0.6269200\ttotal: 3.17s\tremaining: 23.4s\n",
      "119:\tlearn: 0.6264188\ttotal: 3.19s\tremaining: 23.4s\n",
      "120:\tlearn: 0.6260090\ttotal: 3.21s\tremaining: 23.3s\n",
      "121:\tlearn: 0.6253747\ttotal: 3.24s\tremaining: 23.3s\n",
      "122:\tlearn: 0.6249292\ttotal: 3.27s\tremaining: 23.3s\n",
      "123:\tlearn: 0.6248024\ttotal: 3.29s\tremaining: 23.2s\n",
      "124:\tlearn: 0.6244413\ttotal: 3.32s\tremaining: 23.2s\n",
      "125:\tlearn: 0.6234304\ttotal: 3.35s\tremaining: 23.2s\n",
      "126:\tlearn: 0.6230731\ttotal: 3.37s\tremaining: 23.2s\n",
      "127:\tlearn: 0.6229568\ttotal: 3.4s\tremaining: 23.1s\n",
      "128:\tlearn: 0.6223407\ttotal: 3.43s\tremaining: 23.1s\n",
      "129:\tlearn: 0.6220227\ttotal: 3.45s\tremaining: 23.1s\n",
      "130:\tlearn: 0.6214579\ttotal: 3.48s\tremaining: 23.1s\n",
      "131:\tlearn: 0.6210192\ttotal: 3.51s\tremaining: 23.1s\n",
      "132:\tlearn: 0.6204630\ttotal: 3.53s\tremaining: 23s\n",
      "133:\tlearn: 0.6203103\ttotal: 3.55s\tremaining: 23s\n",
      "134:\tlearn: 0.6197082\ttotal: 3.58s\tremaining: 23s\n",
      "135:\tlearn: 0.6194314\ttotal: 3.61s\tremaining: 22.9s\n",
      "136:\tlearn: 0.6190897\ttotal: 3.63s\tremaining: 22.9s\n",
      "137:\tlearn: 0.6184761\ttotal: 3.66s\tremaining: 22.9s\n",
      "138:\tlearn: 0.6182102\ttotal: 3.69s\tremaining: 22.9s\n",
      "139:\tlearn: 0.6179320\ttotal: 3.72s\tremaining: 22.8s\n",
      "140:\tlearn: 0.6175471\ttotal: 3.74s\tremaining: 22.8s\n",
      "141:\tlearn: 0.6166467\ttotal: 3.77s\tremaining: 22.8s\n",
      "142:\tlearn: 0.6162812\ttotal: 3.8s\tremaining: 22.8s\n",
      "143:\tlearn: 0.6160238\ttotal: 3.82s\tremaining: 22.7s\n",
      "144:\tlearn: 0.6157388\ttotal: 3.85s\tremaining: 22.7s\n",
      "145:\tlearn: 0.6152745\ttotal: 3.87s\tremaining: 22.7s\n",
      "146:\tlearn: 0.6149887\ttotal: 3.9s\tremaining: 22.6s\n",
      "147:\tlearn: 0.6144930\ttotal: 3.93s\tremaining: 22.6s\n",
      "148:\tlearn: 0.6141264\ttotal: 3.95s\tremaining: 22.6s\n",
      "149:\tlearn: 0.6136979\ttotal: 3.97s\tremaining: 22.5s\n",
      "150:\tlearn: 0.6132921\ttotal: 4s\tremaining: 22.5s\n",
      "151:\tlearn: 0.6130368\ttotal: 4.02s\tremaining: 22.5s\n",
      "152:\tlearn: 0.6126711\ttotal: 4.05s\tremaining: 22.4s\n",
      "153:\tlearn: 0.6124714\ttotal: 4.08s\tremaining: 22.4s\n",
      "154:\tlearn: 0.6121707\ttotal: 4.1s\tremaining: 22.4s\n",
      "155:\tlearn: 0.6121173\ttotal: 4.13s\tremaining: 22.3s\n",
      "156:\tlearn: 0.6118044\ttotal: 4.15s\tremaining: 22.3s\n",
      "157:\tlearn: 0.6115762\ttotal: 4.18s\tremaining: 22.3s\n",
      "158:\tlearn: 0.6113187\ttotal: 4.21s\tremaining: 22.3s\n",
      "159:\tlearn: 0.6111683\ttotal: 4.23s\tremaining: 22.2s\n"
     ]
    },
    {
     "name": "stdout",
     "output_type": "stream",
     "text": [
      "160:\tlearn: 0.6110871\ttotal: 4.26s\tremaining: 22.2s\n",
      "161:\tlearn: 0.6107627\ttotal: 4.29s\tremaining: 22.2s\n",
      "162:\tlearn: 0.6104360\ttotal: 4.32s\tremaining: 22.2s\n",
      "163:\tlearn: 0.6103905\ttotal: 4.34s\tremaining: 22.1s\n",
      "164:\tlearn: 0.6101819\ttotal: 4.37s\tremaining: 22.1s\n",
      "165:\tlearn: 0.6099901\ttotal: 4.39s\tremaining: 22.1s\n",
      "166:\tlearn: 0.6099673\ttotal: 4.42s\tremaining: 22s\n",
      "167:\tlearn: 0.6096742\ttotal: 4.44s\tremaining: 22s\n",
      "168:\tlearn: 0.6095776\ttotal: 4.47s\tremaining: 22s\n",
      "169:\tlearn: 0.6094347\ttotal: 4.49s\tremaining: 21.9s\n",
      "170:\tlearn: 0.6092851\ttotal: 4.51s\tremaining: 21.9s\n",
      "171:\tlearn: 0.6089647\ttotal: 4.54s\tremaining: 21.9s\n",
      "172:\tlearn: 0.6087134\ttotal: 4.56s\tremaining: 21.8s\n",
      "173:\tlearn: 0.6084437\ttotal: 4.59s\tremaining: 21.8s\n",
      "174:\tlearn: 0.6083242\ttotal: 4.62s\tremaining: 21.8s\n",
      "175:\tlearn: 0.6082029\ttotal: 4.64s\tremaining: 21.7s\n",
      "176:\tlearn: 0.6078655\ttotal: 4.67s\tremaining: 21.7s\n",
      "177:\tlearn: 0.6076382\ttotal: 4.7s\tremaining: 21.7s\n",
      "178:\tlearn: 0.6075456\ttotal: 4.72s\tremaining: 21.7s\n",
      "179:\tlearn: 0.6075083\ttotal: 4.74s\tremaining: 21.6s\n",
      "180:\tlearn: 0.6071964\ttotal: 4.77s\tremaining: 21.6s\n",
      "181:\tlearn: 0.6063441\ttotal: 4.8s\tremaining: 21.6s\n",
      "182:\tlearn: 0.6061775\ttotal: 4.82s\tremaining: 21.5s\n",
      "183:\tlearn: 0.6058926\ttotal: 4.85s\tremaining: 21.5s\n",
      "184:\tlearn: 0.6055738\ttotal: 4.88s\tremaining: 21.5s\n",
      "185:\tlearn: 0.6053999\ttotal: 4.9s\tremaining: 21.4s\n",
      "186:\tlearn: 0.6048964\ttotal: 4.93s\tremaining: 21.4s\n",
      "187:\tlearn: 0.6045535\ttotal: 4.95s\tremaining: 21.4s\n",
      "188:\tlearn: 0.6043722\ttotal: 4.98s\tremaining: 21.4s\n",
      "189:\tlearn: 0.6040045\ttotal: 5.01s\tremaining: 21.4s\n",
      "190:\tlearn: 0.6039548\ttotal: 5.04s\tremaining: 21.3s\n",
      "191:\tlearn: 0.6038457\ttotal: 5.06s\tremaining: 21.3s\n",
      "192:\tlearn: 0.6038010\ttotal: 5.08s\tremaining: 21.3s\n",
      "193:\tlearn: 0.6034385\ttotal: 5.11s\tremaining: 21.2s\n",
      "194:\tlearn: 0.6032787\ttotal: 5.13s\tremaining: 21.2s\n",
      "195:\tlearn: 0.6031546\ttotal: 5.16s\tremaining: 21.2s\n",
      "196:\tlearn: 0.6030939\ttotal: 5.18s\tremaining: 21.1s\n",
      "197:\tlearn: 0.6027319\ttotal: 5.21s\tremaining: 21.1s\n",
      "198:\tlearn: 0.6026387\ttotal: 5.24s\tremaining: 21.1s\n",
      "199:\tlearn: 0.6024230\ttotal: 5.26s\tremaining: 21.1s\n",
      "200:\tlearn: 0.6019538\ttotal: 5.29s\tremaining: 21s\n",
      "201:\tlearn: 0.6013307\ttotal: 5.32s\tremaining: 21s\n",
      "202:\tlearn: 0.6012581\ttotal: 5.35s\tremaining: 21s\n",
      "203:\tlearn: 0.6011176\ttotal: 5.37s\tremaining: 21s\n",
      "204:\tlearn: 0.6009835\ttotal: 5.4s\tremaining: 20.9s\n",
      "205:\tlearn: 0.6008130\ttotal: 5.42s\tremaining: 20.9s\n",
      "206:\tlearn: 0.6007677\ttotal: 5.45s\tremaining: 20.9s\n",
      "207:\tlearn: 0.6006117\ttotal: 5.47s\tremaining: 20.8s\n",
      "208:\tlearn: 0.6000482\ttotal: 5.5s\tremaining: 20.8s\n",
      "209:\tlearn: 0.5996916\ttotal: 5.53s\tremaining: 20.8s\n",
      "210:\tlearn: 0.5995551\ttotal: 5.56s\tremaining: 20.8s\n",
      "211:\tlearn: 0.5994472\ttotal: 5.58s\tremaining: 20.8s\n",
      "212:\tlearn: 0.5992519\ttotal: 5.61s\tremaining: 20.7s\n",
      "213:\tlearn: 0.5991160\ttotal: 5.64s\tremaining: 20.7s\n",
      "214:\tlearn: 0.5989136\ttotal: 5.66s\tremaining: 20.7s\n",
      "215:\tlearn: 0.5987354\ttotal: 5.69s\tremaining: 20.6s\n",
      "216:\tlearn: 0.5982292\ttotal: 5.71s\tremaining: 20.6s\n",
      "217:\tlearn: 0.5978887\ttotal: 5.74s\tremaining: 20.6s\n",
      "218:\tlearn: 0.5977956\ttotal: 5.76s\tremaining: 20.6s\n",
      "219:\tlearn: 0.5977293\ttotal: 5.79s\tremaining: 20.5s\n",
      "220:\tlearn: 0.5975988\ttotal: 5.82s\tremaining: 20.5s\n",
      "221:\tlearn: 0.5974873\ttotal: 5.84s\tremaining: 20.5s\n",
      "222:\tlearn: 0.5974558\ttotal: 5.86s\tremaining: 20.4s\n",
      "223:\tlearn: 0.5973697\ttotal: 5.89s\tremaining: 20.4s\n",
      "224:\tlearn: 0.5971040\ttotal: 5.91s\tremaining: 20.4s\n",
      "225:\tlearn: 0.5969857\ttotal: 5.94s\tremaining: 20.3s\n",
      "226:\tlearn: 0.5967725\ttotal: 5.96s\tremaining: 20.3s\n",
      "227:\tlearn: 0.5965423\ttotal: 5.99s\tremaining: 20.3s\n",
      "228:\tlearn: 0.5964746\ttotal: 6.01s\tremaining: 20.2s\n",
      "229:\tlearn: 0.5964415\ttotal: 6.03s\tremaining: 20.2s\n",
      "230:\tlearn: 0.5964031\ttotal: 6.05s\tremaining: 20.1s\n",
      "231:\tlearn: 0.5961198\ttotal: 6.08s\tremaining: 20.1s\n",
      "232:\tlearn: 0.5960364\ttotal: 6.1s\tremaining: 20.1s\n",
      "233:\tlearn: 0.5958586\ttotal: 6.12s\tremaining: 20s\n",
      "234:\tlearn: 0.5957844\ttotal: 6.14s\tremaining: 20s\n",
      "235:\tlearn: 0.5956315\ttotal: 6.17s\tremaining: 20s\n",
      "236:\tlearn: 0.5955189\ttotal: 6.2s\tremaining: 20s\n",
      "237:\tlearn: 0.5952625\ttotal: 6.23s\tremaining: 19.9s\n",
      "238:\tlearn: 0.5950728\ttotal: 6.25s\tremaining: 19.9s\n",
      "239:\tlearn: 0.5947083\ttotal: 6.28s\tremaining: 19.9s\n",
      "240:\tlearn: 0.5944853\ttotal: 6.31s\tremaining: 19.9s\n",
      "241:\tlearn: 0.5943319\ttotal: 6.33s\tremaining: 19.8s\n",
      "242:\tlearn: 0.5942801\ttotal: 6.36s\tremaining: 19.8s\n",
      "243:\tlearn: 0.5940715\ttotal: 6.39s\tremaining: 19.8s\n",
      "244:\tlearn: 0.5937971\ttotal: 6.41s\tremaining: 19.8s\n",
      "245:\tlearn: 0.5935973\ttotal: 6.44s\tremaining: 19.7s\n",
      "246:\tlearn: 0.5931752\ttotal: 6.47s\tremaining: 19.7s\n",
      "247:\tlearn: 0.5931652\ttotal: 6.49s\tremaining: 19.7s\n",
      "248:\tlearn: 0.5928654\ttotal: 6.52s\tremaining: 19.7s\n",
      "249:\tlearn: 0.5928264\ttotal: 6.54s\tremaining: 19.6s\n",
      "250:\tlearn: 0.5926427\ttotal: 6.57s\tremaining: 19.6s\n",
      "251:\tlearn: 0.5925602\ttotal: 6.6s\tremaining: 19.6s\n",
      "252:\tlearn: 0.5924938\ttotal: 6.62s\tremaining: 19.6s\n",
      "253:\tlearn: 0.5924808\ttotal: 6.65s\tremaining: 19.5s\n",
      "254:\tlearn: 0.5924038\ttotal: 6.67s\tremaining: 19.5s\n",
      "255:\tlearn: 0.5921786\ttotal: 6.7s\tremaining: 19.5s\n",
      "256:\tlearn: 0.5921599\ttotal: 6.72s\tremaining: 19.4s\n",
      "257:\tlearn: 0.5921220\ttotal: 6.75s\tremaining: 19.4s\n",
      "258:\tlearn: 0.5917713\ttotal: 6.77s\tremaining: 19.4s\n",
      "259:\tlearn: 0.5917027\ttotal: 6.8s\tremaining: 19.3s\n",
      "260:\tlearn: 0.5916750\ttotal: 6.82s\tremaining: 19.3s\n",
      "261:\tlearn: 0.5912998\ttotal: 6.85s\tremaining: 19.3s\n",
      "262:\tlearn: 0.5910203\ttotal: 6.88s\tremaining: 19.3s\n",
      "263:\tlearn: 0.5906938\ttotal: 6.91s\tremaining: 19.3s\n",
      "264:\tlearn: 0.5905168\ttotal: 6.93s\tremaining: 19.2s\n",
      "265:\tlearn: 0.5904986\ttotal: 6.96s\tremaining: 19.2s\n",
      "266:\tlearn: 0.5904222\ttotal: 6.98s\tremaining: 19.2s\n",
      "267:\tlearn: 0.5903923\ttotal: 7s\tremaining: 19.1s\n",
      "268:\tlearn: 0.5902409\ttotal: 7.03s\tremaining: 19.1s\n",
      "269:\tlearn: 0.5901574\ttotal: 7.05s\tremaining: 19.1s\n",
      "270:\tlearn: 0.5901176\ttotal: 7.08s\tremaining: 19s\n",
      "271:\tlearn: 0.5900150\ttotal: 7.1s\tremaining: 19s\n",
      "272:\tlearn: 0.5897692\ttotal: 7.13s\tremaining: 19s\n",
      "273:\tlearn: 0.5895141\ttotal: 7.16s\tremaining: 19s\n",
      "274:\tlearn: 0.5894326\ttotal: 7.18s\tremaining: 18.9s\n",
      "275:\tlearn: 0.5891393\ttotal: 7.21s\tremaining: 18.9s\n",
      "276:\tlearn: 0.5886316\ttotal: 7.24s\tremaining: 18.9s\n",
      "277:\tlearn: 0.5885496\ttotal: 7.27s\tremaining: 18.9s\n",
      "278:\tlearn: 0.5883135\ttotal: 7.3s\tremaining: 18.9s\n",
      "279:\tlearn: 0.5882634\ttotal: 7.32s\tremaining: 18.8s\n",
      "280:\tlearn: 0.5880854\ttotal: 7.35s\tremaining: 18.8s\n",
      "281:\tlearn: 0.5879402\ttotal: 7.37s\tremaining: 18.8s\n",
      "282:\tlearn: 0.5879222\ttotal: 7.4s\tremaining: 18.7s\n",
      "283:\tlearn: 0.5878493\ttotal: 7.42s\tremaining: 18.7s\n",
      "284:\tlearn: 0.5878314\ttotal: 7.45s\tremaining: 18.7s\n",
      "285:\tlearn: 0.5876197\ttotal: 7.47s\tremaining: 18.7s\n",
      "286:\tlearn: 0.5875175\ttotal: 7.5s\tremaining: 18.6s\n",
      "287:\tlearn: 0.5873443\ttotal: 7.52s\tremaining: 18.6s\n",
      "288:\tlearn: 0.5872398\ttotal: 7.55s\tremaining: 18.6s\n",
      "289:\tlearn: 0.5870686\ttotal: 7.57s\tremaining: 18.5s\n",
      "290:\tlearn: 0.5867889\ttotal: 7.6s\tremaining: 18.5s\n",
      "291:\tlearn: 0.5865551\ttotal: 7.63s\tremaining: 18.5s\n",
      "292:\tlearn: 0.5863388\ttotal: 7.65s\tremaining: 18.5s\n",
      "293:\tlearn: 0.5862594\ttotal: 7.68s\tremaining: 18.4s\n",
      "294:\tlearn: 0.5861053\ttotal: 7.7s\tremaining: 18.4s\n",
      "295:\tlearn: 0.5860423\ttotal: 7.73s\tremaining: 18.4s\n",
      "296:\tlearn: 0.5855596\ttotal: 7.76s\tremaining: 18.4s\n",
      "297:\tlearn: 0.5854365\ttotal: 7.79s\tremaining: 18.3s\n",
      "298:\tlearn: 0.5853661\ttotal: 7.81s\tremaining: 18.3s\n",
      "299:\tlearn: 0.5851715\ttotal: 7.84s\tremaining: 18.3s\n",
      "300:\tlearn: 0.5851151\ttotal: 7.86s\tremaining: 18.3s\n",
      "301:\tlearn: 0.5850325\ttotal: 7.89s\tremaining: 18.2s\n",
      "302:\tlearn: 0.5849796\ttotal: 7.91s\tremaining: 18.2s\n",
      "303:\tlearn: 0.5849285\ttotal: 7.94s\tremaining: 18.2s\n",
      "304:\tlearn: 0.5846942\ttotal: 7.97s\tremaining: 18.2s\n",
      "305:\tlearn: 0.5845630\ttotal: 7.99s\tremaining: 18.1s\n",
      "306:\tlearn: 0.5845137\ttotal: 8.02s\tremaining: 18.1s\n",
      "307:\tlearn: 0.5843987\ttotal: 8.05s\tremaining: 18.1s\n",
      "308:\tlearn: 0.5842656\ttotal: 8.07s\tremaining: 18.1s\n",
      "309:\tlearn: 0.5842314\ttotal: 8.1s\tremaining: 18s\n",
      "310:\tlearn: 0.5842148\ttotal: 8.12s\tremaining: 18s\n",
      "311:\tlearn: 0.5841776\ttotal: 8.15s\tremaining: 18s\n",
      "312:\tlearn: 0.5839978\ttotal: 8.17s\tremaining: 17.9s\n",
      "313:\tlearn: 0.5839556\ttotal: 8.2s\tremaining: 17.9s\n",
      "314:\tlearn: 0.5837085\ttotal: 8.22s\tremaining: 17.9s\n",
      "315:\tlearn: 0.5836117\ttotal: 8.25s\tremaining: 17.9s\n",
      "316:\tlearn: 0.5831899\ttotal: 8.28s\tremaining: 17.8s\n",
      "317:\tlearn: 0.5831504\ttotal: 8.3s\tremaining: 17.8s\n",
      "318:\tlearn: 0.5830942\ttotal: 8.33s\tremaining: 17.8s\n",
      "319:\tlearn: 0.5829478\ttotal: 8.35s\tremaining: 17.8s\n",
      "320:\tlearn: 0.5827947\ttotal: 8.38s\tremaining: 17.7s\n",
      "321:\tlearn: 0.5827764\ttotal: 8.4s\tremaining: 17.7s\n"
     ]
    },
    {
     "name": "stdout",
     "output_type": "stream",
     "text": [
      "322:\tlearn: 0.5824284\ttotal: 8.43s\tremaining: 17.7s\n",
      "323:\tlearn: 0.5821926\ttotal: 8.46s\tremaining: 17.7s\n",
      "324:\tlearn: 0.5821384\ttotal: 8.49s\tremaining: 17.6s\n",
      "325:\tlearn: 0.5819874\ttotal: 8.51s\tremaining: 17.6s\n",
      "326:\tlearn: 0.5818178\ttotal: 8.54s\tremaining: 17.6s\n",
      "327:\tlearn: 0.5817449\ttotal: 8.56s\tremaining: 17.5s\n",
      "328:\tlearn: 0.5817328\ttotal: 8.58s\tremaining: 17.5s\n",
      "329:\tlearn: 0.5814780\ttotal: 8.61s\tremaining: 17.5s\n",
      "330:\tlearn: 0.5813059\ttotal: 8.64s\tremaining: 17.5s\n",
      "331:\tlearn: 0.5812043\ttotal: 8.66s\tremaining: 17.4s\n",
      "332:\tlearn: 0.5810903\ttotal: 8.69s\tremaining: 17.4s\n",
      "333:\tlearn: 0.5810162\ttotal: 8.72s\tremaining: 17.4s\n",
      "334:\tlearn: 0.5808313\ttotal: 8.74s\tremaining: 17.4s\n",
      "335:\tlearn: 0.5807301\ttotal: 8.77s\tremaining: 17.3s\n",
      "336:\tlearn: 0.5806951\ttotal: 8.79s\tremaining: 17.3s\n",
      "337:\tlearn: 0.5804139\ttotal: 8.82s\tremaining: 17.3s\n",
      "338:\tlearn: 0.5800922\ttotal: 8.85s\tremaining: 17.2s\n",
      "339:\tlearn: 0.5800674\ttotal: 8.87s\tremaining: 17.2s\n",
      "340:\tlearn: 0.5798228\ttotal: 8.9s\tremaining: 17.2s\n",
      "341:\tlearn: 0.5794027\ttotal: 8.93s\tremaining: 17.2s\n",
      "342:\tlearn: 0.5793916\ttotal: 8.95s\tremaining: 17.1s\n",
      "343:\tlearn: 0.5791983\ttotal: 8.98s\tremaining: 17.1s\n",
      "344:\tlearn: 0.5790638\ttotal: 9.01s\tremaining: 17.1s\n",
      "345:\tlearn: 0.5789897\ttotal: 9.03s\tremaining: 17.1s\n",
      "346:\tlearn: 0.5788909\ttotal: 9.05s\tremaining: 17s\n",
      "347:\tlearn: 0.5787291\ttotal: 9.08s\tremaining: 17s\n",
      "348:\tlearn: 0.5785951\ttotal: 9.11s\tremaining: 17s\n",
      "349:\tlearn: 0.5783803\ttotal: 9.14s\tremaining: 17s\n",
      "350:\tlearn: 0.5782439\ttotal: 9.16s\tremaining: 16.9s\n",
      "351:\tlearn: 0.5780907\ttotal: 9.19s\tremaining: 16.9s\n",
      "352:\tlearn: 0.5778400\ttotal: 9.22s\tremaining: 16.9s\n",
      "353:\tlearn: 0.5774606\ttotal: 9.25s\tremaining: 16.9s\n",
      "354:\tlearn: 0.5773192\ttotal: 9.28s\tremaining: 16.9s\n",
      "355:\tlearn: 0.5772138\ttotal: 9.3s\tremaining: 16.8s\n",
      "356:\tlearn: 0.5769955\ttotal: 9.33s\tremaining: 16.8s\n",
      "357:\tlearn: 0.5766230\ttotal: 9.36s\tremaining: 16.8s\n",
      "358:\tlearn: 0.5765972\ttotal: 9.38s\tremaining: 16.8s\n",
      "359:\tlearn: 0.5763432\ttotal: 9.41s\tremaining: 16.7s\n",
      "360:\tlearn: 0.5762790\ttotal: 9.44s\tremaining: 16.7s\n",
      "361:\tlearn: 0.5762311\ttotal: 9.46s\tremaining: 16.7s\n",
      "362:\tlearn: 0.5759669\ttotal: 9.49s\tremaining: 16.6s\n",
      "363:\tlearn: 0.5759537\ttotal: 9.51s\tremaining: 16.6s\n",
      "364:\tlearn: 0.5756911\ttotal: 9.54s\tremaining: 16.6s\n",
      "365:\tlearn: 0.5756409\ttotal: 9.56s\tremaining: 16.6s\n",
      "366:\tlearn: 0.5756239\ttotal: 9.59s\tremaining: 16.5s\n",
      "367:\tlearn: 0.5755709\ttotal: 9.61s\tremaining: 16.5s\n",
      "368:\tlearn: 0.5754758\ttotal: 9.63s\tremaining: 16.5s\n",
      "369:\tlearn: 0.5754451\ttotal: 9.66s\tremaining: 16.4s\n",
      "370:\tlearn: 0.5752936\ttotal: 9.69s\tremaining: 16.4s\n",
      "371:\tlearn: 0.5752411\ttotal: 9.71s\tremaining: 16.4s\n",
      "372:\tlearn: 0.5752029\ttotal: 9.73s\tremaining: 16.4s\n",
      "373:\tlearn: 0.5751126\ttotal: 9.76s\tremaining: 16.3s\n",
      "374:\tlearn: 0.5749253\ttotal: 9.78s\tremaining: 16.3s\n",
      "375:\tlearn: 0.5749170\ttotal: 9.81s\tremaining: 16.3s\n",
      "376:\tlearn: 0.5746185\ttotal: 9.83s\tremaining: 16.3s\n",
      "377:\tlearn: 0.5745758\ttotal: 9.86s\tremaining: 16.2s\n",
      "378:\tlearn: 0.5745186\ttotal: 9.88s\tremaining: 16.2s\n",
      "379:\tlearn: 0.5744025\ttotal: 9.91s\tremaining: 16.2s\n",
      "380:\tlearn: 0.5742141\ttotal: 9.94s\tremaining: 16.1s\n",
      "381:\tlearn: 0.5739998\ttotal: 9.96s\tremaining: 16.1s\n",
      "382:\tlearn: 0.5739336\ttotal: 9.99s\tremaining: 16.1s\n",
      "383:\tlearn: 0.5738396\ttotal: 10s\tremaining: 16.1s\n",
      "384:\tlearn: 0.5737956\ttotal: 10s\tremaining: 16s\n",
      "385:\tlearn: 0.5737586\ttotal: 10.1s\tremaining: 16s\n",
      "386:\tlearn: 0.5733260\ttotal: 10.1s\tremaining: 16s\n",
      "387:\tlearn: 0.5731596\ttotal: 10.1s\tremaining: 16s\n",
      "388:\tlearn: 0.5730034\ttotal: 10.1s\tremaining: 15.9s\n",
      "389:\tlearn: 0.5728061\ttotal: 10.2s\tremaining: 15.9s\n",
      "390:\tlearn: 0.5725006\ttotal: 10.2s\tremaining: 15.9s\n",
      "391:\tlearn: 0.5724231\ttotal: 10.2s\tremaining: 15.9s\n",
      "392:\tlearn: 0.5723538\ttotal: 10.2s\tremaining: 15.8s\n",
      "393:\tlearn: 0.5721290\ttotal: 10.3s\tremaining: 15.8s\n",
      "394:\tlearn: 0.5719698\ttotal: 10.3s\tremaining: 15.8s\n",
      "395:\tlearn: 0.5719416\ttotal: 10.3s\tremaining: 15.7s\n",
      "396:\tlearn: 0.5716941\ttotal: 10.3s\tremaining: 15.7s\n",
      "397:\tlearn: 0.5715030\ttotal: 10.4s\tremaining: 15.7s\n",
      "398:\tlearn: 0.5710046\ttotal: 10.4s\tremaining: 15.7s\n",
      "399:\tlearn: 0.5708175\ttotal: 10.4s\tremaining: 15.7s\n",
      "400:\tlearn: 0.5707285\ttotal: 10.5s\tremaining: 15.6s\n",
      "401:\tlearn: 0.5707159\ttotal: 10.5s\tremaining: 15.6s\n",
      "402:\tlearn: 0.5706262\ttotal: 10.5s\tremaining: 15.6s\n",
      "403:\tlearn: 0.5704171\ttotal: 10.5s\tremaining: 15.6s\n",
      "404:\tlearn: 0.5704005\ttotal: 10.6s\tremaining: 15.5s\n",
      "405:\tlearn: 0.5698935\ttotal: 10.6s\tremaining: 15.5s\n",
      "406:\tlearn: 0.5698771\ttotal: 10.6s\tremaining: 15.5s\n",
      "407:\tlearn: 0.5696005\ttotal: 10.6s\tremaining: 15.4s\n",
      "408:\tlearn: 0.5695923\ttotal: 10.7s\tremaining: 15.4s\n",
      "409:\tlearn: 0.5694542\ttotal: 10.7s\tremaining: 15.4s\n",
      "410:\tlearn: 0.5694418\ttotal: 10.7s\tremaining: 15.3s\n",
      "411:\tlearn: 0.5693915\ttotal: 10.7s\tremaining: 15.3s\n",
      "412:\tlearn: 0.5693430\ttotal: 10.7s\tremaining: 15.3s\n",
      "413:\tlearn: 0.5691788\ttotal: 10.8s\tremaining: 15.3s\n",
      "414:\tlearn: 0.5691034\ttotal: 10.8s\tremaining: 15.2s\n",
      "415:\tlearn: 0.5690637\ttotal: 10.8s\tremaining: 15.2s\n",
      "416:\tlearn: 0.5690564\ttotal: 10.8s\tremaining: 15.2s\n",
      "417:\tlearn: 0.5687426\ttotal: 10.9s\tremaining: 15.1s\n",
      "418:\tlearn: 0.5684150\ttotal: 10.9s\tremaining: 15.1s\n",
      "419:\tlearn: 0.5683832\ttotal: 10.9s\tremaining: 15.1s\n",
      "420:\tlearn: 0.5682425\ttotal: 10.9s\tremaining: 15.1s\n",
      "421:\tlearn: 0.5679085\ttotal: 11s\tremaining: 15s\n",
      "422:\tlearn: 0.5676238\ttotal: 11s\tremaining: 15s\n",
      "423:\tlearn: 0.5675196\ttotal: 11s\tremaining: 15s\n",
      "424:\tlearn: 0.5673954\ttotal: 11.1s\tremaining: 15s\n",
      "425:\tlearn: 0.5672095\ttotal: 11.1s\tremaining: 14.9s\n",
      "426:\tlearn: 0.5669335\ttotal: 11.1s\tremaining: 14.9s\n",
      "427:\tlearn: 0.5668785\ttotal: 11.1s\tremaining: 14.9s\n",
      "428:\tlearn: 0.5668709\ttotal: 11.2s\tremaining: 14.8s\n",
      "429:\tlearn: 0.5667177\ttotal: 11.2s\tremaining: 14.8s\n",
      "430:\tlearn: 0.5666530\ttotal: 11.2s\tremaining: 14.8s\n",
      "431:\tlearn: 0.5666045\ttotal: 11.2s\tremaining: 14.8s\n",
      "432:\tlearn: 0.5665215\ttotal: 11.2s\tremaining: 14.7s\n",
      "433:\tlearn: 0.5664762\ttotal: 11.3s\tremaining: 14.7s\n",
      "434:\tlearn: 0.5663370\ttotal: 11.3s\tremaining: 14.7s\n",
      "435:\tlearn: 0.5662898\ttotal: 11.3s\tremaining: 14.6s\n",
      "436:\tlearn: 0.5662376\ttotal: 11.3s\tremaining: 14.6s\n",
      "437:\tlearn: 0.5659943\ttotal: 11.4s\tremaining: 14.6s\n",
      "438:\tlearn: 0.5659372\ttotal: 11.4s\tremaining: 14.6s\n",
      "439:\tlearn: 0.5657040\ttotal: 11.4s\tremaining: 14.5s\n",
      "440:\tlearn: 0.5655988\ttotal: 11.4s\tremaining: 14.5s\n",
      "441:\tlearn: 0.5654911\ttotal: 11.5s\tremaining: 14.5s\n",
      "442:\tlearn: 0.5653152\ttotal: 11.5s\tremaining: 14.4s\n",
      "443:\tlearn: 0.5652737\ttotal: 11.5s\tremaining: 14.4s\n",
      "444:\tlearn: 0.5652420\ttotal: 11.5s\tremaining: 14.4s\n",
      "445:\tlearn: 0.5651964\ttotal: 11.6s\tremaining: 14.4s\n",
      "446:\tlearn: 0.5650940\ttotal: 11.6s\tremaining: 14.3s\n",
      "447:\tlearn: 0.5650486\ttotal: 11.6s\tremaining: 14.3s\n",
      "448:\tlearn: 0.5649860\ttotal: 11.6s\tremaining: 14.3s\n",
      "449:\tlearn: 0.5648419\ttotal: 11.7s\tremaining: 14.2s\n",
      "450:\tlearn: 0.5646175\ttotal: 11.7s\tremaining: 14.2s\n",
      "451:\tlearn: 0.5644127\ttotal: 11.7s\tremaining: 14.2s\n",
      "452:\tlearn: 0.5642696\ttotal: 11.7s\tremaining: 14.2s\n",
      "453:\tlearn: 0.5640795\ttotal: 11.8s\tremaining: 14.1s\n",
      "454:\tlearn: 0.5640376\ttotal: 11.8s\tremaining: 14.1s\n",
      "455:\tlearn: 0.5637675\ttotal: 11.8s\tremaining: 14.1s\n",
      "456:\tlearn: 0.5636736\ttotal: 11.8s\tremaining: 14.1s\n",
      "457:\tlearn: 0.5636180\ttotal: 11.9s\tremaining: 14s\n",
      "458:\tlearn: 0.5635457\ttotal: 11.9s\tremaining: 14s\n",
      "459:\tlearn: 0.5633013\ttotal: 11.9s\tremaining: 14s\n",
      "460:\tlearn: 0.5631671\ttotal: 11.9s\tremaining: 14s\n",
      "461:\tlearn: 0.5631014\ttotal: 12s\tremaining: 13.9s\n",
      "462:\tlearn: 0.5628574\ttotal: 12s\tremaining: 13.9s\n",
      "463:\tlearn: 0.5628175\ttotal: 12s\tremaining: 13.9s\n",
      "464:\tlearn: 0.5627600\ttotal: 12s\tremaining: 13.8s\n",
      "465:\tlearn: 0.5626496\ttotal: 12.1s\tremaining: 13.8s\n",
      "466:\tlearn: 0.5625632\ttotal: 12.1s\tremaining: 13.8s\n",
      "467:\tlearn: 0.5622365\ttotal: 12.1s\tremaining: 13.8s\n",
      "468:\tlearn: 0.5621843\ttotal: 12.1s\tremaining: 13.7s\n",
      "469:\tlearn: 0.5620783\ttotal: 12.2s\tremaining: 13.7s\n",
      "470:\tlearn: 0.5620454\ttotal: 12.2s\tremaining: 13.7s\n",
      "471:\tlearn: 0.5618541\ttotal: 12.2s\tremaining: 13.7s\n",
      "472:\tlearn: 0.5615546\ttotal: 12.2s\tremaining: 13.6s\n",
      "473:\tlearn: 0.5614216\ttotal: 12.3s\tremaining: 13.6s\n",
      "474:\tlearn: 0.5613583\ttotal: 12.3s\tremaining: 13.6s\n",
      "475:\tlearn: 0.5611385\ttotal: 12.3s\tremaining: 13.6s\n",
      "476:\tlearn: 0.5608081\ttotal: 12.4s\tremaining: 13.5s\n",
      "477:\tlearn: 0.5606301\ttotal: 12.4s\tremaining: 13.5s\n",
      "478:\tlearn: 0.5606236\ttotal: 12.4s\tremaining: 13.5s\n",
      "479:\tlearn: 0.5605104\ttotal: 12.4s\tremaining: 13.5s\n",
      "480:\tlearn: 0.5604975\ttotal: 12.5s\tremaining: 13.4s\n",
      "481:\tlearn: 0.5604474\ttotal: 12.5s\tremaining: 13.4s\n"
     ]
    },
    {
     "name": "stdout",
     "output_type": "stream",
     "text": [
      "482:\tlearn: 0.5603508\ttotal: 12.5s\tremaining: 13.4s\n",
      "483:\tlearn: 0.5601800\ttotal: 12.5s\tremaining: 13.4s\n",
      "484:\tlearn: 0.5601302\ttotal: 12.6s\tremaining: 13.3s\n",
      "485:\tlearn: 0.5601124\ttotal: 12.6s\tremaining: 13.3s\n",
      "486:\tlearn: 0.5599546\ttotal: 12.6s\tremaining: 13.3s\n",
      "487:\tlearn: 0.5596758\ttotal: 12.6s\tremaining: 13.3s\n",
      "488:\tlearn: 0.5593702\ttotal: 12.7s\tremaining: 13.2s\n",
      "489:\tlearn: 0.5592082\ttotal: 12.7s\tremaining: 13.2s\n",
      "490:\tlearn: 0.5591355\ttotal: 12.7s\tremaining: 13.2s\n",
      "491:\tlearn: 0.5589236\ttotal: 12.7s\tremaining: 13.2s\n",
      "492:\tlearn: 0.5587564\ttotal: 12.8s\tremaining: 13.1s\n",
      "493:\tlearn: 0.5585949\ttotal: 12.8s\tremaining: 13.1s\n",
      "494:\tlearn: 0.5585849\ttotal: 12.8s\tremaining: 13.1s\n",
      "495:\tlearn: 0.5585224\ttotal: 12.8s\tremaining: 13.1s\n",
      "496:\tlearn: 0.5584452\ttotal: 12.9s\tremaining: 13s\n",
      "497:\tlearn: 0.5580209\ttotal: 12.9s\tremaining: 13s\n",
      "498:\tlearn: 0.5577184\ttotal: 12.9s\tremaining: 13s\n",
      "499:\tlearn: 0.5574207\ttotal: 13s\tremaining: 13s\n",
      "500:\tlearn: 0.5572982\ttotal: 13s\tremaining: 12.9s\n",
      "501:\tlearn: 0.5572500\ttotal: 13s\tremaining: 12.9s\n",
      "502:\tlearn: 0.5571937\ttotal: 13s\tremaining: 12.9s\n",
      "503:\tlearn: 0.5571160\ttotal: 13.1s\tremaining: 12.8s\n",
      "504:\tlearn: 0.5568787\ttotal: 13.1s\tremaining: 12.8s\n",
      "505:\tlearn: 0.5567674\ttotal: 13.1s\tremaining: 12.8s\n",
      "506:\tlearn: 0.5566200\ttotal: 13.1s\tremaining: 12.8s\n",
      "507:\tlearn: 0.5566019\ttotal: 13.2s\tremaining: 12.7s\n",
      "508:\tlearn: 0.5565694\ttotal: 13.2s\tremaining: 12.7s\n",
      "509:\tlearn: 0.5561355\ttotal: 13.2s\tremaining: 12.7s\n",
      "510:\tlearn: 0.5560314\ttotal: 13.2s\tremaining: 12.7s\n",
      "511:\tlearn: 0.5557926\ttotal: 13.3s\tremaining: 12.6s\n",
      "512:\tlearn: 0.5557119\ttotal: 13.3s\tremaining: 12.6s\n",
      "513:\tlearn: 0.5557043\ttotal: 13.3s\tremaining: 12.6s\n",
      "514:\tlearn: 0.5554673\ttotal: 13.3s\tremaining: 12.6s\n",
      "515:\tlearn: 0.5554446\ttotal: 13.4s\tremaining: 12.5s\n",
      "516:\tlearn: 0.5552625\ttotal: 13.4s\tremaining: 12.5s\n",
      "517:\tlearn: 0.5551458\ttotal: 13.4s\tremaining: 12.5s\n",
      "518:\tlearn: 0.5550976\ttotal: 13.4s\tremaining: 12.4s\n",
      "519:\tlearn: 0.5550304\ttotal: 13.5s\tremaining: 12.4s\n",
      "520:\tlearn: 0.5550158\ttotal: 13.5s\tremaining: 12.4s\n",
      "521:\tlearn: 0.5547667\ttotal: 13.5s\tremaining: 12.4s\n",
      "522:\tlearn: 0.5547424\ttotal: 13.5s\tremaining: 12.3s\n",
      "523:\tlearn: 0.5546884\ttotal: 13.6s\tremaining: 12.3s\n",
      "524:\tlearn: 0.5545305\ttotal: 13.6s\tremaining: 12.3s\n",
      "525:\tlearn: 0.5544267\ttotal: 13.6s\tremaining: 12.3s\n",
      "526:\tlearn: 0.5543130\ttotal: 13.6s\tremaining: 12.2s\n",
      "527:\tlearn: 0.5541000\ttotal: 13.7s\tremaining: 12.2s\n",
      "528:\tlearn: 0.5539910\ttotal: 13.7s\tremaining: 12.2s\n",
      "529:\tlearn: 0.5538222\ttotal: 13.7s\tremaining: 12.2s\n",
      "530:\tlearn: 0.5537436\ttotal: 13.8s\tremaining: 12.1s\n",
      "531:\tlearn: 0.5533643\ttotal: 13.8s\tremaining: 12.1s\n",
      "532:\tlearn: 0.5533063\ttotal: 13.8s\tremaining: 12.1s\n",
      "533:\tlearn: 0.5531228\ttotal: 13.8s\tremaining: 12.1s\n",
      "534:\tlearn: 0.5527096\ttotal: 13.9s\tremaining: 12s\n",
      "535:\tlearn: 0.5524426\ttotal: 13.9s\tremaining: 12s\n",
      "536:\tlearn: 0.5523113\ttotal: 13.9s\tremaining: 12s\n",
      "537:\tlearn: 0.5522734\ttotal: 13.9s\tremaining: 12s\n",
      "538:\tlearn: 0.5521223\ttotal: 14s\tremaining: 11.9s\n",
      "539:\tlearn: 0.5520476\ttotal: 14s\tremaining: 11.9s\n",
      "540:\tlearn: 0.5519427\ttotal: 14s\tremaining: 11.9s\n",
      "541:\tlearn: 0.5516209\ttotal: 14.1s\tremaining: 11.9s\n",
      "542:\tlearn: 0.5515148\ttotal: 14.1s\tremaining: 11.8s\n",
      "543:\tlearn: 0.5514762\ttotal: 14.1s\tremaining: 11.8s\n",
      "544:\tlearn: 0.5514068\ttotal: 14.1s\tremaining: 11.8s\n",
      "545:\tlearn: 0.5512746\ttotal: 14.2s\tremaining: 11.8s\n",
      "546:\tlearn: 0.5511283\ttotal: 14.2s\tremaining: 11.7s\n",
      "547:\tlearn: 0.5510937\ttotal: 14.2s\tremaining: 11.7s\n",
      "548:\tlearn: 0.5509987\ttotal: 14.2s\tremaining: 11.7s\n",
      "549:\tlearn: 0.5506929\ttotal: 14.3s\tremaining: 11.7s\n",
      "550:\tlearn: 0.5505404\ttotal: 14.3s\tremaining: 11.6s\n",
      "551:\tlearn: 0.5504177\ttotal: 14.3s\tremaining: 11.6s\n",
      "552:\tlearn: 0.5502068\ttotal: 14.3s\tremaining: 11.6s\n",
      "553:\tlearn: 0.5501251\ttotal: 14.4s\tremaining: 11.6s\n",
      "554:\tlearn: 0.5499284\ttotal: 14.4s\tremaining: 11.5s\n",
      "555:\tlearn: 0.5497353\ttotal: 14.4s\tremaining: 11.5s\n",
      "556:\tlearn: 0.5496092\ttotal: 14.4s\tremaining: 11.5s\n",
      "557:\tlearn: 0.5494981\ttotal: 14.5s\tremaining: 11.5s\n",
      "558:\tlearn: 0.5492370\ttotal: 14.5s\tremaining: 11.4s\n",
      "559:\tlearn: 0.5490400\ttotal: 14.5s\tremaining: 11.4s\n",
      "560:\tlearn: 0.5487386\ttotal: 14.5s\tremaining: 11.4s\n",
      "561:\tlearn: 0.5486505\ttotal: 14.6s\tremaining: 11.4s\n",
      "562:\tlearn: 0.5485769\ttotal: 14.6s\tremaining: 11.3s\n",
      "563:\tlearn: 0.5483674\ttotal: 14.6s\tremaining: 11.3s\n",
      "564:\tlearn: 0.5482242\ttotal: 14.7s\tremaining: 11.3s\n",
      "565:\tlearn: 0.5481404\ttotal: 14.7s\tremaining: 11.3s\n",
      "566:\tlearn: 0.5478208\ttotal: 14.7s\tremaining: 11.2s\n",
      "567:\tlearn: 0.5477689\ttotal: 14.7s\tremaining: 11.2s\n",
      "568:\tlearn: 0.5477507\ttotal: 14.8s\tremaining: 11.2s\n",
      "569:\tlearn: 0.5473902\ttotal: 14.8s\tremaining: 11.2s\n",
      "570:\tlearn: 0.5472245\ttotal: 14.8s\tremaining: 11.1s\n",
      "571:\tlearn: 0.5472059\ttotal: 14.8s\tremaining: 11.1s\n",
      "572:\tlearn: 0.5469309\ttotal: 14.9s\tremaining: 11.1s\n",
      "573:\tlearn: 0.5467729\ttotal: 14.9s\tremaining: 11.1s\n",
      "574:\tlearn: 0.5466737\ttotal: 14.9s\tremaining: 11s\n",
      "575:\tlearn: 0.5465790\ttotal: 15s\tremaining: 11s\n",
      "576:\tlearn: 0.5465390\ttotal: 15s\tremaining: 11s\n",
      "577:\tlearn: 0.5464917\ttotal: 15s\tremaining: 11s\n",
      "578:\tlearn: 0.5464871\ttotal: 15s\tremaining: 10.9s\n",
      "579:\tlearn: 0.5464805\ttotal: 15.1s\tremaining: 10.9s\n",
      "580:\tlearn: 0.5462274\ttotal: 15.1s\tremaining: 10.9s\n",
      "581:\tlearn: 0.5460609\ttotal: 15.1s\tremaining: 10.9s\n",
      "582:\tlearn: 0.5460559\ttotal: 15.1s\tremaining: 10.8s\n",
      "583:\tlearn: 0.5458249\ttotal: 15.2s\tremaining: 10.8s\n",
      "584:\tlearn: 0.5455645\ttotal: 15.2s\tremaining: 10.8s\n",
      "585:\tlearn: 0.5452992\ttotal: 15.2s\tremaining: 10.8s\n",
      "586:\tlearn: 0.5451183\ttotal: 15.2s\tremaining: 10.7s\n",
      "587:\tlearn: 0.5450213\ttotal: 15.3s\tremaining: 10.7s\n",
      "588:\tlearn: 0.5450122\ttotal: 15.3s\tremaining: 10.7s\n",
      "589:\tlearn: 0.5449006\ttotal: 15.3s\tremaining: 10.6s\n",
      "590:\tlearn: 0.5448414\ttotal: 15.3s\tremaining: 10.6s\n",
      "591:\tlearn: 0.5447796\ttotal: 15.4s\tremaining: 10.6s\n",
      "592:\tlearn: 0.5447176\ttotal: 15.4s\tremaining: 10.6s\n",
      "593:\tlearn: 0.5446534\ttotal: 15.4s\tremaining: 10.5s\n",
      "594:\tlearn: 0.5443236\ttotal: 15.4s\tremaining: 10.5s\n",
      "595:\tlearn: 0.5443019\ttotal: 15.5s\tremaining: 10.5s\n",
      "596:\tlearn: 0.5441399\ttotal: 15.5s\tremaining: 10.5s\n",
      "597:\tlearn: 0.5440751\ttotal: 15.5s\tremaining: 10.4s\n",
      "598:\tlearn: 0.5440489\ttotal: 15.5s\tremaining: 10.4s\n",
      "599:\tlearn: 0.5439526\ttotal: 15.6s\tremaining: 10.4s\n",
      "600:\tlearn: 0.5438315\ttotal: 15.6s\tremaining: 10.3s\n",
      "601:\tlearn: 0.5436385\ttotal: 15.6s\tremaining: 10.3s\n",
      "602:\tlearn: 0.5435657\ttotal: 15.6s\tremaining: 10.3s\n",
      "603:\tlearn: 0.5435433\ttotal: 15.7s\tremaining: 10.3s\n",
      "604:\tlearn: 0.5434961\ttotal: 15.7s\tremaining: 10.2s\n",
      "605:\tlearn: 0.5434800\ttotal: 15.7s\tremaining: 10.2s\n",
      "606:\tlearn: 0.5434485\ttotal: 15.7s\tremaining: 10.2s\n",
      "607:\tlearn: 0.5432927\ttotal: 15.8s\tremaining: 10.2s\n",
      "608:\tlearn: 0.5431174\ttotal: 15.8s\tremaining: 10.1s\n",
      "609:\tlearn: 0.5430858\ttotal: 15.8s\tremaining: 10.1s\n",
      "610:\tlearn: 0.5430068\ttotal: 15.8s\tremaining: 10.1s\n",
      "611:\tlearn: 0.5428393\ttotal: 15.9s\tremaining: 10.1s\n",
      "612:\tlearn: 0.5427924\ttotal: 15.9s\tremaining: 10s\n",
      "613:\tlearn: 0.5426064\ttotal: 15.9s\tremaining: 10s\n",
      "614:\tlearn: 0.5425330\ttotal: 15.9s\tremaining: 9.98s\n",
      "615:\tlearn: 0.5423857\ttotal: 16s\tremaining: 9.95s\n",
      "616:\tlearn: 0.5422756\ttotal: 16s\tremaining: 9.93s\n",
      "617:\tlearn: 0.5422495\ttotal: 16s\tremaining: 9.9s\n",
      "618:\tlearn: 0.5422084\ttotal: 16s\tremaining: 9.88s\n",
      "619:\tlearn: 0.5420936\ttotal: 16.1s\tremaining: 9.85s\n",
      "620:\tlearn: 0.5419995\ttotal: 16.1s\tremaining: 9.82s\n",
      "621:\tlearn: 0.5417762\ttotal: 16.1s\tremaining: 9.8s\n",
      "622:\tlearn: 0.5417641\ttotal: 16.2s\tremaining: 9.77s\n",
      "623:\tlearn: 0.5415576\ttotal: 16.2s\tremaining: 9.75s\n",
      "624:\tlearn: 0.5415163\ttotal: 16.2s\tremaining: 9.72s\n",
      "625:\tlearn: 0.5415097\ttotal: 16.2s\tremaining: 9.7s\n",
      "626:\tlearn: 0.5413176\ttotal: 16.3s\tremaining: 9.67s\n",
      "627:\tlearn: 0.5410816\ttotal: 16.3s\tremaining: 9.65s\n",
      "628:\tlearn: 0.5408065\ttotal: 16.3s\tremaining: 9.62s\n",
      "629:\tlearn: 0.5407335\ttotal: 16.3s\tremaining: 9.6s\n",
      "630:\tlearn: 0.5403604\ttotal: 16.4s\tremaining: 9.57s\n",
      "631:\tlearn: 0.5399276\ttotal: 16.4s\tremaining: 9.55s\n",
      "632:\tlearn: 0.5397213\ttotal: 16.4s\tremaining: 9.52s\n",
      "633:\tlearn: 0.5396034\ttotal: 16.4s\tremaining: 9.5s\n",
      "634:\tlearn: 0.5393299\ttotal: 16.5s\tremaining: 9.47s\n",
      "635:\tlearn: 0.5393086\ttotal: 16.5s\tremaining: 9.44s\n",
      "636:\tlearn: 0.5391765\ttotal: 16.5s\tremaining: 9.41s\n",
      "637:\tlearn: 0.5391241\ttotal: 16.5s\tremaining: 9.39s\n",
      "638:\tlearn: 0.5389035\ttotal: 16.6s\tremaining: 9.36s\n",
      "639:\tlearn: 0.5388059\ttotal: 16.6s\tremaining: 9.34s\n",
      "640:\tlearn: 0.5387678\ttotal: 16.6s\tremaining: 9.31s\n",
      "641:\tlearn: 0.5384046\ttotal: 16.6s\tremaining: 9.29s\n",
      "642:\tlearn: 0.5380358\ttotal: 16.7s\tremaining: 9.26s\n",
      "643:\tlearn: 0.5378468\ttotal: 16.7s\tremaining: 9.23s\n",
      "644:\tlearn: 0.5378328\ttotal: 16.7s\tremaining: 9.21s\n",
      "645:\tlearn: 0.5377348\ttotal: 16.8s\tremaining: 9.18s\n"
     ]
    },
    {
     "name": "stdout",
     "output_type": "stream",
     "text": [
      "646:\tlearn: 0.5375915\ttotal: 16.8s\tremaining: 9.15s\n",
      "647:\tlearn: 0.5375107\ttotal: 16.8s\tremaining: 9.13s\n",
      "648:\tlearn: 0.5374454\ttotal: 16.8s\tremaining: 9.1s\n",
      "649:\tlearn: 0.5372545\ttotal: 16.9s\tremaining: 9.08s\n",
      "650:\tlearn: 0.5372042\ttotal: 16.9s\tremaining: 9.05s\n",
      "651:\tlearn: 0.5371169\ttotal: 16.9s\tremaining: 9.03s\n",
      "652:\tlearn: 0.5369258\ttotal: 16.9s\tremaining: 9s\n",
      "653:\tlearn: 0.5368171\ttotal: 17s\tremaining: 8.97s\n",
      "654:\tlearn: 0.5367169\ttotal: 17s\tremaining: 8.95s\n",
      "655:\tlearn: 0.5366494\ttotal: 17s\tremaining: 8.92s\n",
      "656:\tlearn: 0.5364872\ttotal: 17s\tremaining: 8.9s\n",
      "657:\tlearn: 0.5363901\ttotal: 17.1s\tremaining: 8.87s\n",
      "658:\tlearn: 0.5362348\ttotal: 17.1s\tremaining: 8.85s\n",
      "659:\tlearn: 0.5361380\ttotal: 17.1s\tremaining: 8.82s\n",
      "660:\tlearn: 0.5360632\ttotal: 17.2s\tremaining: 8.8s\n",
      "661:\tlearn: 0.5358050\ttotal: 17.2s\tremaining: 8.77s\n",
      "662:\tlearn: 0.5356047\ttotal: 17.2s\tremaining: 8.75s\n",
      "663:\tlearn: 0.5355340\ttotal: 17.2s\tremaining: 8.72s\n",
      "664:\tlearn: 0.5353159\ttotal: 17.3s\tremaining: 8.7s\n",
      "665:\tlearn: 0.5351438\ttotal: 17.3s\tremaining: 8.67s\n",
      "666:\tlearn: 0.5351362\ttotal: 17.3s\tremaining: 8.64s\n",
      "667:\tlearn: 0.5349990\ttotal: 17.3s\tremaining: 8.62s\n",
      "668:\tlearn: 0.5348759\ttotal: 17.4s\tremaining: 8.59s\n",
      "669:\tlearn: 0.5347403\ttotal: 17.4s\tremaining: 8.57s\n",
      "670:\tlearn: 0.5344801\ttotal: 17.4s\tremaining: 8.54s\n",
      "671:\tlearn: 0.5343801\ttotal: 17.5s\tremaining: 8.52s\n",
      "672:\tlearn: 0.5343485\ttotal: 17.5s\tremaining: 8.49s\n",
      "673:\tlearn: 0.5342376\ttotal: 17.5s\tremaining: 8.47s\n",
      "674:\tlearn: 0.5338353\ttotal: 17.5s\tremaining: 8.44s\n",
      "675:\tlearn: 0.5337067\ttotal: 17.6s\tremaining: 8.42s\n",
      "676:\tlearn: 0.5335801\ttotal: 17.6s\tremaining: 8.39s\n",
      "677:\tlearn: 0.5334602\ttotal: 17.6s\tremaining: 8.37s\n",
      "678:\tlearn: 0.5334249\ttotal: 17.6s\tremaining: 8.34s\n",
      "679:\tlearn: 0.5333462\ttotal: 17.7s\tremaining: 8.31s\n",
      "680:\tlearn: 0.5331765\ttotal: 17.7s\tremaining: 8.29s\n",
      "681:\tlearn: 0.5330965\ttotal: 17.7s\tremaining: 8.27s\n",
      "682:\tlearn: 0.5328518\ttotal: 17.8s\tremaining: 8.24s\n",
      "683:\tlearn: 0.5328106\ttotal: 17.8s\tremaining: 8.21s\n",
      "684:\tlearn: 0.5326700\ttotal: 17.8s\tremaining: 8.19s\n",
      "685:\tlearn: 0.5325826\ttotal: 17.8s\tremaining: 8.16s\n",
      "686:\tlearn: 0.5322802\ttotal: 17.9s\tremaining: 8.14s\n",
      "687:\tlearn: 0.5322607\ttotal: 17.9s\tremaining: 8.11s\n",
      "688:\tlearn: 0.5319879\ttotal: 17.9s\tremaining: 8.09s\n",
      "689:\tlearn: 0.5319236\ttotal: 17.9s\tremaining: 8.06s\n",
      "690:\tlearn: 0.5317435\ttotal: 18s\tremaining: 8.03s\n",
      "691:\tlearn: 0.5316591\ttotal: 18s\tremaining: 8.01s\n",
      "692:\tlearn: 0.5314479\ttotal: 18s\tremaining: 7.98s\n",
      "693:\tlearn: 0.5314312\ttotal: 18s\tremaining: 7.96s\n",
      "694:\tlearn: 0.5313629\ttotal: 18.1s\tremaining: 7.93s\n",
      "695:\tlearn: 0.5313271\ttotal: 18.1s\tremaining: 7.91s\n",
      "696:\tlearn: 0.5312015\ttotal: 18.1s\tremaining: 7.88s\n",
      "697:\tlearn: 0.5310657\ttotal: 18.2s\tremaining: 7.86s\n",
      "698:\tlearn: 0.5310130\ttotal: 18.2s\tremaining: 7.83s\n",
      "699:\tlearn: 0.5310026\ttotal: 18.2s\tremaining: 7.8s\n",
      "700:\tlearn: 0.5308945\ttotal: 18.2s\tremaining: 7.78s\n",
      "701:\tlearn: 0.5307377\ttotal: 18.3s\tremaining: 7.75s\n",
      "702:\tlearn: 0.5305173\ttotal: 18.3s\tremaining: 7.72s\n",
      "703:\tlearn: 0.5305125\ttotal: 18.3s\tremaining: 7.7s\n",
      "704:\tlearn: 0.5304137\ttotal: 18.3s\tremaining: 7.67s\n",
      "705:\tlearn: 0.5303749\ttotal: 18.4s\tremaining: 7.64s\n",
      "706:\tlearn: 0.5303378\ttotal: 18.4s\tremaining: 7.62s\n",
      "707:\tlearn: 0.5301294\ttotal: 18.4s\tremaining: 7.59s\n",
      "708:\tlearn: 0.5301157\ttotal: 18.4s\tremaining: 7.56s\n",
      "709:\tlearn: 0.5298526\ttotal: 18.5s\tremaining: 7.54s\n",
      "710:\tlearn: 0.5298037\ttotal: 18.5s\tremaining: 7.51s\n",
      "711:\tlearn: 0.5297659\ttotal: 18.5s\tremaining: 7.48s\n",
      "712:\tlearn: 0.5297305\ttotal: 18.5s\tremaining: 7.46s\n",
      "713:\tlearn: 0.5295947\ttotal: 18.6s\tremaining: 7.43s\n",
      "714:\tlearn: 0.5293753\ttotal: 18.6s\tremaining: 7.4s\n",
      "715:\tlearn: 0.5293198\ttotal: 18.6s\tremaining: 7.38s\n",
      "716:\tlearn: 0.5292026\ttotal: 18.6s\tremaining: 7.35s\n",
      "717:\tlearn: 0.5291414\ttotal: 18.6s\tremaining: 7.32s\n",
      "718:\tlearn: 0.5288767\ttotal: 18.7s\tremaining: 7.3s\n",
      "719:\tlearn: 0.5288557\ttotal: 18.7s\tremaining: 7.27s\n",
      "720:\tlearn: 0.5285458\ttotal: 18.7s\tremaining: 7.24s\n",
      "721:\tlearn: 0.5284527\ttotal: 18.7s\tremaining: 7.22s\n",
      "722:\tlearn: 0.5282322\ttotal: 18.8s\tremaining: 7.19s\n",
      "723:\tlearn: 0.5280872\ttotal: 18.8s\tremaining: 7.17s\n",
      "724:\tlearn: 0.5280088\ttotal: 18.8s\tremaining: 7.14s\n",
      "725:\tlearn: 0.5278564\ttotal: 18.8s\tremaining: 7.11s\n",
      "726:\tlearn: 0.5277467\ttotal: 18.9s\tremaining: 7.09s\n",
      "727:\tlearn: 0.5276320\ttotal: 18.9s\tremaining: 7.06s\n",
      "728:\tlearn: 0.5275703\ttotal: 18.9s\tremaining: 7.03s\n",
      "729:\tlearn: 0.5273887\ttotal: 18.9s\tremaining: 7.01s\n",
      "730:\tlearn: 0.5272584\ttotal: 19s\tremaining: 6.98s\n",
      "731:\tlearn: 0.5271899\ttotal: 19s\tremaining: 6.95s\n",
      "732:\tlearn: 0.5271318\ttotal: 19s\tremaining: 6.93s\n",
      "733:\tlearn: 0.5270250\ttotal: 19s\tremaining: 6.9s\n",
      "734:\tlearn: 0.5268871\ttotal: 19.1s\tremaining: 6.88s\n",
      "735:\tlearn: 0.5267752\ttotal: 19.1s\tremaining: 6.85s\n",
      "736:\tlearn: 0.5264298\ttotal: 19.1s\tremaining: 6.83s\n",
      "737:\tlearn: 0.5262282\ttotal: 19.2s\tremaining: 6.8s\n",
      "738:\tlearn: 0.5260322\ttotal: 19.2s\tremaining: 6.77s\n",
      "739:\tlearn: 0.5259983\ttotal: 19.2s\tremaining: 6.75s\n",
      "740:\tlearn: 0.5258410\ttotal: 19.2s\tremaining: 6.72s\n",
      "741:\tlearn: 0.5257464\ttotal: 19.3s\tremaining: 6.69s\n",
      "742:\tlearn: 0.5255344\ttotal: 19.3s\tremaining: 6.67s\n",
      "743:\tlearn: 0.5253715\ttotal: 19.3s\tremaining: 6.64s\n",
      "744:\tlearn: 0.5253499\ttotal: 19.3s\tremaining: 6.62s\n",
      "745:\tlearn: 0.5252113\ttotal: 19.4s\tremaining: 6.59s\n",
      "746:\tlearn: 0.5250382\ttotal: 19.4s\tremaining: 6.56s\n",
      "747:\tlearn: 0.5248980\ttotal: 19.4s\tremaining: 6.54s\n",
      "748:\tlearn: 0.5248330\ttotal: 19.4s\tremaining: 6.51s\n",
      "749:\tlearn: 0.5246482\ttotal: 19.5s\tremaining: 6.49s\n",
      "750:\tlearn: 0.5245934\ttotal: 19.5s\tremaining: 6.46s\n",
      "751:\tlearn: 0.5244026\ttotal: 19.5s\tremaining: 6.43s\n",
      "752:\tlearn: 0.5243907\ttotal: 19.5s\tremaining: 6.41s\n",
      "753:\tlearn: 0.5243402\ttotal: 19.6s\tremaining: 6.38s\n",
      "754:\tlearn: 0.5243007\ttotal: 19.6s\tremaining: 6.35s\n",
      "755:\tlearn: 0.5241356\ttotal: 19.6s\tremaining: 6.33s\n",
      "756:\tlearn: 0.5240123\ttotal: 19.6s\tremaining: 6.3s\n",
      "757:\tlearn: 0.5238614\ttotal: 19.7s\tremaining: 6.28s\n",
      "758:\tlearn: 0.5235741\ttotal: 19.7s\tremaining: 6.25s\n",
      "759:\tlearn: 0.5232760\ttotal: 19.7s\tremaining: 6.22s\n",
      "760:\tlearn: 0.5230994\ttotal: 19.7s\tremaining: 6.2s\n",
      "761:\tlearn: 0.5230527\ttotal: 19.8s\tremaining: 6.17s\n",
      "762:\tlearn: 0.5228234\ttotal: 19.8s\tremaining: 6.15s\n",
      "763:\tlearn: 0.5226072\ttotal: 19.8s\tremaining: 6.12s\n",
      "764:\tlearn: 0.5225328\ttotal: 19.8s\tremaining: 6.1s\n",
      "765:\tlearn: 0.5224662\ttotal: 19.9s\tremaining: 6.07s\n",
      "766:\tlearn: 0.5223925\ttotal: 19.9s\tremaining: 6.04s\n",
      "767:\tlearn: 0.5222104\ttotal: 19.9s\tremaining: 6.02s\n",
      "768:\tlearn: 0.5220456\ttotal: 19.9s\tremaining: 5.99s\n",
      "769:\tlearn: 0.5220192\ttotal: 20s\tremaining: 5.97s\n",
      "770:\tlearn: 0.5218719\ttotal: 20s\tremaining: 5.94s\n",
      "771:\tlearn: 0.5216975\ttotal: 20s\tremaining: 5.91s\n",
      "772:\tlearn: 0.5216199\ttotal: 20.1s\tremaining: 5.89s\n",
      "773:\tlearn: 0.5214163\ttotal: 20.1s\tremaining: 5.86s\n",
      "774:\tlearn: 0.5212260\ttotal: 20.1s\tremaining: 5.84s\n",
      "775:\tlearn: 0.5211490\ttotal: 20.1s\tremaining: 5.81s\n",
      "776:\tlearn: 0.5210743\ttotal: 20.1s\tremaining: 5.78s\n",
      "777:\tlearn: 0.5209163\ttotal: 20.2s\tremaining: 5.76s\n",
      "778:\tlearn: 0.5208645\ttotal: 20.2s\tremaining: 5.73s\n",
      "779:\tlearn: 0.5207547\ttotal: 20.2s\tremaining: 5.71s\n",
      "780:\tlearn: 0.5204035\ttotal: 20.3s\tremaining: 5.68s\n",
      "781:\tlearn: 0.5202930\ttotal: 20.3s\tremaining: 5.66s\n",
      "782:\tlearn: 0.5201631\ttotal: 20.3s\tremaining: 5.63s\n",
      "783:\tlearn: 0.5201361\ttotal: 20.3s\tremaining: 5.6s\n",
      "784:\tlearn: 0.5199892\ttotal: 20.4s\tremaining: 5.58s\n",
      "785:\tlearn: 0.5199715\ttotal: 20.4s\tremaining: 5.55s\n",
      "786:\tlearn: 0.5199433\ttotal: 20.4s\tremaining: 5.53s\n",
      "787:\tlearn: 0.5198187\ttotal: 20.4s\tremaining: 5.5s\n",
      "788:\tlearn: 0.5197195\ttotal: 20.5s\tremaining: 5.47s\n",
      "789:\tlearn: 0.5196253\ttotal: 20.5s\tremaining: 5.45s\n",
      "790:\tlearn: 0.5195750\ttotal: 20.5s\tremaining: 5.42s\n",
      "791:\tlearn: 0.5195566\ttotal: 20.5s\tremaining: 5.39s\n",
      "792:\tlearn: 0.5194723\ttotal: 20.6s\tremaining: 5.37s\n",
      "793:\tlearn: 0.5194490\ttotal: 20.6s\tremaining: 5.34s\n",
      "794:\tlearn: 0.5194371\ttotal: 20.6s\tremaining: 5.32s\n",
      "795:\tlearn: 0.5194012\ttotal: 20.6s\tremaining: 5.29s\n",
      "796:\tlearn: 0.5193108\ttotal: 20.7s\tremaining: 5.26s\n",
      "797:\tlearn: 0.5192288\ttotal: 20.7s\tremaining: 5.24s\n",
      "798:\tlearn: 0.5191609\ttotal: 20.7s\tremaining: 5.21s\n",
      "799:\tlearn: 0.5191402\ttotal: 20.7s\tremaining: 5.18s\n",
      "800:\tlearn: 0.5188102\ttotal: 20.8s\tremaining: 5.16s\n",
      "801:\tlearn: 0.5185212\ttotal: 20.8s\tremaining: 5.13s\n",
      "802:\tlearn: 0.5183257\ttotal: 20.8s\tremaining: 5.11s\n",
      "803:\tlearn: 0.5181135\ttotal: 20.8s\tremaining: 5.08s\n",
      "804:\tlearn: 0.5180484\ttotal: 20.9s\tremaining: 5.05s\n",
      "805:\tlearn: 0.5179300\ttotal: 20.9s\tremaining: 5.03s\n",
      "806:\tlearn: 0.5179051\ttotal: 20.9s\tremaining: 5s\n",
      "807:\tlearn: 0.5178721\ttotal: 20.9s\tremaining: 4.98s\n",
      "808:\tlearn: 0.5176750\ttotal: 21s\tremaining: 4.95s\n",
      "809:\tlearn: 0.5176214\ttotal: 21s\tremaining: 4.92s\n"
     ]
    },
    {
     "name": "stdout",
     "output_type": "stream",
     "text": [
      "810:\tlearn: 0.5175103\ttotal: 21s\tremaining: 4.9s\n",
      "811:\tlearn: 0.5174502\ttotal: 21s\tremaining: 4.87s\n",
      "812:\tlearn: 0.5173736\ttotal: 21.1s\tremaining: 4.85s\n",
      "813:\tlearn: 0.5172348\ttotal: 21.1s\tremaining: 4.82s\n",
      "814:\tlearn: 0.5170578\ttotal: 21.1s\tremaining: 4.79s\n",
      "815:\tlearn: 0.5170074\ttotal: 21.1s\tremaining: 4.77s\n",
      "816:\tlearn: 0.5169894\ttotal: 21.2s\tremaining: 4.74s\n",
      "817:\tlearn: 0.5169486\ttotal: 21.2s\tremaining: 4.72s\n",
      "818:\tlearn: 0.5167297\ttotal: 21.2s\tremaining: 4.69s\n",
      "819:\tlearn: 0.5166726\ttotal: 21.2s\tremaining: 4.66s\n",
      "820:\tlearn: 0.5165474\ttotal: 21.3s\tremaining: 4.64s\n",
      "821:\tlearn: 0.5164339\ttotal: 21.3s\tremaining: 4.61s\n",
      "822:\tlearn: 0.5163555\ttotal: 21.3s\tremaining: 4.58s\n",
      "823:\tlearn: 0.5162095\ttotal: 21.3s\tremaining: 4.56s\n",
      "824:\tlearn: 0.5161804\ttotal: 21.4s\tremaining: 4.53s\n",
      "825:\tlearn: 0.5159267\ttotal: 21.4s\tremaining: 4.51s\n",
      "826:\tlearn: 0.5157638\ttotal: 21.4s\tremaining: 4.48s\n",
      "827:\tlearn: 0.5155806\ttotal: 21.4s\tremaining: 4.46s\n",
      "828:\tlearn: 0.5155297\ttotal: 21.5s\tremaining: 4.43s\n",
      "829:\tlearn: 0.5153845\ttotal: 21.5s\tremaining: 4.4s\n",
      "830:\tlearn: 0.5153172\ttotal: 21.5s\tremaining: 4.38s\n",
      "831:\tlearn: 0.5152008\ttotal: 21.5s\tremaining: 4.35s\n",
      "832:\tlearn: 0.5150229\ttotal: 21.6s\tremaining: 4.32s\n",
      "833:\tlearn: 0.5149917\ttotal: 21.6s\tremaining: 4.3s\n",
      "834:\tlearn: 0.5149111\ttotal: 21.6s\tremaining: 4.27s\n",
      "835:\tlearn: 0.5145554\ttotal: 21.6s\tremaining: 4.25s\n",
      "836:\tlearn: 0.5144877\ttotal: 21.7s\tremaining: 4.22s\n",
      "837:\tlearn: 0.5144047\ttotal: 21.7s\tremaining: 4.19s\n",
      "838:\tlearn: 0.5142300\ttotal: 21.7s\tremaining: 4.17s\n",
      "839:\tlearn: 0.5141603\ttotal: 21.7s\tremaining: 4.14s\n",
      "840:\tlearn: 0.5141186\ttotal: 21.8s\tremaining: 4.12s\n",
      "841:\tlearn: 0.5141021\ttotal: 21.8s\tremaining: 4.09s\n",
      "842:\tlearn: 0.5139761\ttotal: 21.8s\tremaining: 4.06s\n",
      "843:\tlearn: 0.5138513\ttotal: 21.8s\tremaining: 4.04s\n",
      "844:\tlearn: 0.5137529\ttotal: 21.9s\tremaining: 4.01s\n",
      "845:\tlearn: 0.5137408\ttotal: 21.9s\tremaining: 3.99s\n",
      "846:\tlearn: 0.5137101\ttotal: 21.9s\tremaining: 3.96s\n",
      "847:\tlearn: 0.5136310\ttotal: 21.9s\tremaining: 3.93s\n",
      "848:\tlearn: 0.5135007\ttotal: 22s\tremaining: 3.91s\n",
      "849:\tlearn: 0.5133738\ttotal: 22s\tremaining: 3.88s\n",
      "850:\tlearn: 0.5131050\ttotal: 22s\tremaining: 3.85s\n",
      "851:\tlearn: 0.5129608\ttotal: 22s\tremaining: 3.83s\n",
      "852:\tlearn: 0.5128094\ttotal: 22.1s\tremaining: 3.8s\n",
      "853:\tlearn: 0.5127027\ttotal: 22.1s\tremaining: 3.78s\n",
      "854:\tlearn: 0.5126527\ttotal: 22.1s\tremaining: 3.75s\n",
      "855:\tlearn: 0.5125870\ttotal: 22.2s\tremaining: 3.73s\n",
      "856:\tlearn: 0.5123889\ttotal: 22.2s\tremaining: 3.7s\n",
      "857:\tlearn: 0.5123262\ttotal: 22.2s\tremaining: 3.67s\n",
      "858:\tlearn: 0.5121419\ttotal: 22.2s\tremaining: 3.65s\n",
      "859:\tlearn: 0.5119695\ttotal: 22.3s\tremaining: 3.62s\n",
      "860:\tlearn: 0.5118128\ttotal: 22.3s\tremaining: 3.6s\n",
      "861:\tlearn: 0.5117859\ttotal: 22.3s\tremaining: 3.57s\n",
      "862:\tlearn: 0.5116964\ttotal: 22.3s\tremaining: 3.54s\n",
      "863:\tlearn: 0.5115613\ttotal: 22.4s\tremaining: 3.52s\n",
      "864:\tlearn: 0.5113332\ttotal: 22.4s\tremaining: 3.49s\n",
      "865:\tlearn: 0.5112773\ttotal: 22.4s\tremaining: 3.47s\n",
      "866:\tlearn: 0.5111026\ttotal: 22.4s\tremaining: 3.44s\n",
      "867:\tlearn: 0.5108469\ttotal: 22.5s\tremaining: 3.42s\n",
      "868:\tlearn: 0.5107492\ttotal: 22.5s\tremaining: 3.39s\n",
      "869:\tlearn: 0.5105202\ttotal: 22.5s\tremaining: 3.36s\n",
      "870:\tlearn: 0.5105145\ttotal: 22.5s\tremaining: 3.34s\n",
      "871:\tlearn: 0.5104578\ttotal: 22.6s\tremaining: 3.31s\n",
      "872:\tlearn: 0.5101070\ttotal: 22.6s\tremaining: 3.29s\n",
      "873:\tlearn: 0.5099631\ttotal: 22.6s\tremaining: 3.26s\n",
      "874:\tlearn: 0.5096934\ttotal: 22.6s\tremaining: 3.23s\n",
      "875:\tlearn: 0.5095894\ttotal: 22.7s\tremaining: 3.21s\n",
      "876:\tlearn: 0.5094224\ttotal: 22.7s\tremaining: 3.18s\n",
      "877:\tlearn: 0.5092585\ttotal: 22.7s\tremaining: 3.16s\n",
      "878:\tlearn: 0.5091868\ttotal: 22.7s\tremaining: 3.13s\n",
      "879:\tlearn: 0.5089434\ttotal: 22.8s\tremaining: 3.1s\n",
      "880:\tlearn: 0.5088695\ttotal: 22.8s\tremaining: 3.08s\n",
      "881:\tlearn: 0.5088125\ttotal: 22.8s\tremaining: 3.05s\n",
      "882:\tlearn: 0.5086992\ttotal: 22.8s\tremaining: 3.03s\n",
      "883:\tlearn: 0.5086154\ttotal: 22.9s\tremaining: 3s\n",
      "884:\tlearn: 0.5085085\ttotal: 22.9s\tremaining: 2.98s\n",
      "885:\tlearn: 0.5083344\ttotal: 22.9s\tremaining: 2.95s\n",
      "886:\tlearn: 0.5081155\ttotal: 22.9s\tremaining: 2.92s\n",
      "887:\tlearn: 0.5080328\ttotal: 23s\tremaining: 2.9s\n",
      "888:\tlearn: 0.5079344\ttotal: 23s\tremaining: 2.87s\n",
      "889:\tlearn: 0.5079051\ttotal: 23s\tremaining: 2.85s\n",
      "890:\tlearn: 0.5076659\ttotal: 23s\tremaining: 2.82s\n",
      "891:\tlearn: 0.5074875\ttotal: 23.1s\tremaining: 2.79s\n",
      "892:\tlearn: 0.5074197\ttotal: 23.1s\tremaining: 2.77s\n",
      "893:\tlearn: 0.5073911\ttotal: 23.1s\tremaining: 2.74s\n",
      "894:\tlearn: 0.5072046\ttotal: 23.1s\tremaining: 2.71s\n",
      "895:\tlearn: 0.5071971\ttotal: 23.2s\tremaining: 2.69s\n",
      "896:\tlearn: 0.5069839\ttotal: 23.2s\tremaining: 2.66s\n",
      "897:\tlearn: 0.5069553\ttotal: 23.2s\tremaining: 2.64s\n",
      "898:\tlearn: 0.5068651\ttotal: 23.2s\tremaining: 2.61s\n",
      "899:\tlearn: 0.5067943\ttotal: 23.3s\tremaining: 2.58s\n",
      "900:\tlearn: 0.5067498\ttotal: 23.3s\tremaining: 2.56s\n",
      "901:\tlearn: 0.5065946\ttotal: 23.3s\tremaining: 2.53s\n",
      "902:\tlearn: 0.5065170\ttotal: 23.4s\tremaining: 2.51s\n",
      "903:\tlearn: 0.5063920\ttotal: 23.4s\tremaining: 2.48s\n",
      "904:\tlearn: 0.5062092\ttotal: 23.4s\tremaining: 2.46s\n",
      "905:\tlearn: 0.5061637\ttotal: 23.4s\tremaining: 2.43s\n",
      "906:\tlearn: 0.5060671\ttotal: 23.4s\tremaining: 2.4s\n",
      "907:\tlearn: 0.5059807\ttotal: 23.5s\tremaining: 2.38s\n",
      "908:\tlearn: 0.5058194\ttotal: 23.5s\tremaining: 2.35s\n",
      "909:\tlearn: 0.5057249\ttotal: 23.5s\tremaining: 2.33s\n",
      "910:\tlearn: 0.5052818\ttotal: 23.6s\tremaining: 2.3s\n",
      "911:\tlearn: 0.5052147\ttotal: 23.6s\tremaining: 2.27s\n",
      "912:\tlearn: 0.5051560\ttotal: 23.6s\tremaining: 2.25s\n",
      "913:\tlearn: 0.5050619\ttotal: 23.6s\tremaining: 2.22s\n",
      "914:\tlearn: 0.5050547\ttotal: 23.7s\tremaining: 2.2s\n",
      "915:\tlearn: 0.5049635\ttotal: 23.7s\tremaining: 2.17s\n",
      "916:\tlearn: 0.5048548\ttotal: 23.7s\tremaining: 2.15s\n",
      "917:\tlearn: 0.5046832\ttotal: 23.7s\tremaining: 2.12s\n",
      "918:\tlearn: 0.5046244\ttotal: 23.8s\tremaining: 2.09s\n",
      "919:\tlearn: 0.5045152\ttotal: 23.8s\tremaining: 2.07s\n",
      "920:\tlearn: 0.5043120\ttotal: 23.8s\tremaining: 2.04s\n",
      "921:\tlearn: 0.5041311\ttotal: 23.8s\tremaining: 2.02s\n",
      "922:\tlearn: 0.5040785\ttotal: 23.9s\tremaining: 1.99s\n",
      "923:\tlearn: 0.5040229\ttotal: 23.9s\tremaining: 1.96s\n",
      "924:\tlearn: 0.5036865\ttotal: 23.9s\tremaining: 1.94s\n",
      "925:\tlearn: 0.5035804\ttotal: 23.9s\tremaining: 1.91s\n",
      "926:\tlearn: 0.5034816\ttotal: 24s\tremaining: 1.89s\n",
      "927:\tlearn: 0.5033298\ttotal: 24s\tremaining: 1.86s\n",
      "928:\tlearn: 0.5031832\ttotal: 24s\tremaining: 1.83s\n",
      "929:\tlearn: 0.5030763\ttotal: 24s\tremaining: 1.81s\n",
      "930:\tlearn: 0.5029329\ttotal: 24.1s\tremaining: 1.78s\n",
      "931:\tlearn: 0.5028542\ttotal: 24.1s\tremaining: 1.76s\n",
      "932:\tlearn: 0.5027395\ttotal: 24.1s\tremaining: 1.73s\n",
      "933:\tlearn: 0.5026471\ttotal: 24.1s\tremaining: 1.71s\n",
      "934:\tlearn: 0.5026298\ttotal: 24.2s\tremaining: 1.68s\n",
      "935:\tlearn: 0.5025521\ttotal: 24.2s\tremaining: 1.65s\n",
      "936:\tlearn: 0.5023063\ttotal: 24.2s\tremaining: 1.63s\n",
      "937:\tlearn: 0.5022964\ttotal: 24.2s\tremaining: 1.6s\n",
      "938:\tlearn: 0.5022504\ttotal: 24.3s\tremaining: 1.58s\n",
      "939:\tlearn: 0.5021731\ttotal: 24.3s\tremaining: 1.55s\n",
      "940:\tlearn: 0.5020641\ttotal: 24.3s\tremaining: 1.52s\n",
      "941:\tlearn: 0.5020394\ttotal: 24.3s\tremaining: 1.5s\n",
      "942:\tlearn: 0.5019844\ttotal: 24.4s\tremaining: 1.47s\n",
      "943:\tlearn: 0.5019156\ttotal: 24.4s\tremaining: 1.45s\n",
      "944:\tlearn: 0.5017111\ttotal: 24.4s\tremaining: 1.42s\n",
      "945:\tlearn: 0.5016765\ttotal: 24.4s\tremaining: 1.4s\n",
      "946:\tlearn: 0.5016243\ttotal: 24.5s\tremaining: 1.37s\n",
      "947:\tlearn: 0.5014615\ttotal: 24.5s\tremaining: 1.34s\n",
      "948:\tlearn: 0.5014537\ttotal: 24.5s\tremaining: 1.32s\n",
      "949:\tlearn: 0.5014118\ttotal: 24.5s\tremaining: 1.29s\n",
      "950:\tlearn: 0.5012425\ttotal: 24.6s\tremaining: 1.26s\n",
      "951:\tlearn: 0.5012107\ttotal: 24.6s\tremaining: 1.24s\n",
      "952:\tlearn: 0.5010828\ttotal: 24.6s\tremaining: 1.21s\n",
      "953:\tlearn: 0.5010387\ttotal: 24.6s\tremaining: 1.19s\n",
      "954:\tlearn: 0.5007631\ttotal: 24.7s\tremaining: 1.16s\n",
      "955:\tlearn: 0.5006352\ttotal: 24.7s\tremaining: 1.14s\n",
      "956:\tlearn: 0.5003730\ttotal: 24.7s\tremaining: 1.11s\n",
      "957:\tlearn: 0.5003316\ttotal: 24.7s\tremaining: 1.08s\n",
      "958:\tlearn: 0.5002393\ttotal: 24.8s\tremaining: 1.06s\n",
      "959:\tlearn: 0.5001594\ttotal: 24.8s\tremaining: 1.03s\n",
      "960:\tlearn: 0.5000080\ttotal: 24.8s\tremaining: 1.01s\n",
      "961:\tlearn: 0.4999476\ttotal: 24.8s\tremaining: 981ms\n",
      "962:\tlearn: 0.4998268\ttotal: 24.9s\tremaining: 955ms\n",
      "963:\tlearn: 0.4998187\ttotal: 24.9s\tremaining: 930ms\n",
      "964:\tlearn: 0.4996967\ttotal: 24.9s\tremaining: 904ms\n",
      "965:\tlearn: 0.4996152\ttotal: 24.9s\tremaining: 878ms\n",
      "966:\tlearn: 0.4995319\ttotal: 25s\tremaining: 852ms\n",
      "967:\tlearn: 0.4992285\ttotal: 25s\tremaining: 826ms\n",
      "968:\tlearn: 0.4990998\ttotal: 25s\tremaining: 801ms\n",
      "969:\tlearn: 0.4990079\ttotal: 25.1s\tremaining: 775ms\n",
      "970:\tlearn: 0.4990012\ttotal: 25.1s\tremaining: 749ms\n",
      "971:\tlearn: 0.4987754\ttotal: 25.1s\tremaining: 723ms\n",
      "972:\tlearn: 0.4987166\ttotal: 25.1s\tremaining: 697ms\n",
      "973:\tlearn: 0.4986352\ttotal: 25.2s\tremaining: 671ms\n",
      "974:\tlearn: 0.4986284\ttotal: 25.2s\tremaining: 645ms\n"
     ]
    },
    {
     "name": "stdout",
     "output_type": "stream",
     "text": [
      "975:\tlearn: 0.4984747\ttotal: 25.2s\tremaining: 620ms\n",
      "976:\tlearn: 0.4984090\ttotal: 25.2s\tremaining: 594ms\n",
      "977:\tlearn: 0.4983709\ttotal: 25.2s\tremaining: 568ms\n",
      "978:\tlearn: 0.4983250\ttotal: 25.3s\tremaining: 542ms\n",
      "979:\tlearn: 0.4981845\ttotal: 25.3s\tremaining: 516ms\n",
      "980:\tlearn: 0.4981511\ttotal: 25.3s\tremaining: 490ms\n",
      "981:\tlearn: 0.4979704\ttotal: 25.3s\tremaining: 465ms\n",
      "982:\tlearn: 0.4978986\ttotal: 25.4s\tremaining: 439ms\n",
      "983:\tlearn: 0.4977094\ttotal: 25.4s\tremaining: 413ms\n",
      "984:\tlearn: 0.4976777\ttotal: 25.4s\tremaining: 387ms\n",
      "985:\tlearn: 0.4975991\ttotal: 25.4s\tremaining: 361ms\n",
      "986:\tlearn: 0.4975627\ttotal: 25.5s\tremaining: 336ms\n",
      "987:\tlearn: 0.4972481\ttotal: 25.5s\tremaining: 310ms\n",
      "988:\tlearn: 0.4969993\ttotal: 25.5s\tremaining: 284ms\n",
      "989:\tlearn: 0.4969953\ttotal: 25.5s\tremaining: 258ms\n",
      "990:\tlearn: 0.4968458\ttotal: 25.6s\tremaining: 232ms\n",
      "991:\tlearn: 0.4967638\ttotal: 25.6s\tremaining: 206ms\n",
      "992:\tlearn: 0.4967248\ttotal: 25.6s\tremaining: 181ms\n",
      "993:\tlearn: 0.4966764\ttotal: 25.7s\tremaining: 155ms\n",
      "994:\tlearn: 0.4966201\ttotal: 25.7s\tremaining: 129ms\n",
      "995:\tlearn: 0.4965511\ttotal: 25.7s\tremaining: 103ms\n",
      "996:\tlearn: 0.4964265\ttotal: 25.7s\tremaining: 77.4ms\n",
      "997:\tlearn: 0.4963254\ttotal: 25.7s\tremaining: 51.6ms\n",
      "998:\tlearn: 0.4961556\ttotal: 25.8s\tremaining: 25.8ms\n",
      "999:\tlearn: 0.4961433\ttotal: 25.8s\tremaining: 0us\n"
     ]
    },
    {
     "data": {
      "text/plain": [
       "<catboost.core.CatBoostClassifier at 0x7fb2681cda90>"
      ]
     },
     "execution_count": 362,
     "metadata": {},
     "output_type": "execute_result"
    }
   ],
   "source": [
    "# <USE IT!>\n",
    "clf = CatBoostClassifier()\n",
    "clf.fit(x_train_csr, y_train)"
   ]
  },
  {
   "cell_type": "markdown",
   "metadata": {},
   "source": [
    "**11. (2 балла) Пришлите в Контест balanced_accuracy_score на тестовой выборке, округлённый до двух знаков после запятой**. Стало ли сильно лучше от того, что мы воспользовались таким крутым классификатором?"
   ]
  },
  {
   "cell_type": "code",
   "execution_count": 364,
   "metadata": {},
   "outputs": [
    {
     "data": {
      "text/plain": [
       "0.36"
      ]
     },
     "execution_count": 364,
     "metadata": {},
     "output_type": "execute_result"
    }
   ],
   "source": [
    "round(balanced_accuracy_score(\n",
    "    y_test,\n",
    "    clf.predict(x_test_csr)\n",
    "), 2)"
   ]
  }
 ],
 "metadata": {
  "kernelspec": {
   "display_name": "Python 3 (ipykernel)",
   "language": "python",
   "name": "python3"
  },
  "language_info": {
   "codemirror_mode": {
    "name": "ipython",
    "version": 3
   },
   "file_extension": ".py",
   "mimetype": "text/x-python",
   "name": "python",
   "nbconvert_exporter": "python",
   "pygments_lexer": "ipython3",
   "version": "3.9.0"
  }
 },
 "nbformat": 4,
 "nbformat_minor": 4
}